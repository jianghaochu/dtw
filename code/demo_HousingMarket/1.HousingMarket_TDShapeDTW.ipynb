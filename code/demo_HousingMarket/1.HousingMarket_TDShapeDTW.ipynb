{
 "cells": [
  {
   "cell_type": "markdown",
   "id": "848efecb-2348-4058-897d-c1641c27f8b1",
   "metadata": {},
   "source": [
    "# Set Inital Env"
   ]
  },
  {
   "cell_type": "code",
   "execution_count": 1,
   "id": "cfae3760-a970-4815-ba69-afaacfb8412d",
   "metadata": {},
   "outputs": [
    {
     "name": "stdout",
     "output_type": "stream",
     "text": [
      "[1] \"C:/Users/y/github/dtw/code/demo_HousingMarket\"\n",
      "[1] \"C:/Users/y/github/dtw/code\"\n"
     ]
    }
   ],
   "source": [
    "# check current working directory\n",
    "print(getwd())\n",
    "\n",
    "# reset to the root directory\n",
    "setwd(\"..\")\n",
    "print(getwd())"
   ]
  },
  {
   "cell_type": "code",
   "execution_count": 2,
   "id": "f77d1128-c221-4142-a414-43d34401b2d3",
   "metadata": {},
   "outputs": [
    {
     "data": {
      "text/plain": [
       "R version 4.1.2 (2021-11-01)\n",
       "Platform: x86_64-w64-mingw32/x64 (64-bit)\n",
       "Running under: Windows 10 x64 (build 19042)\n",
       "\n",
       "Matrix products: default\n",
       "\n",
       "locale:\n",
       "[1] LC_COLLATE=English_United States.1252 \n",
       "[2] LC_CTYPE=English_United States.1252   \n",
       "[3] LC_MONETARY=English_United States.1252\n",
       "[4] LC_NUMERIC=C                          \n",
       "[5] LC_TIME=English_United States.1252    \n",
       "\n",
       "attached base packages:\n",
       "[1] stats     graphics  grDevices utils     datasets  methods   base     \n",
       "\n",
       "loaded via a namespace (and not attached):\n",
       " [1] fansi_0.5.0     crayon_1.4.2    digest_0.6.29   utf8_1.2.2     \n",
       " [5] IRdisplay_1.1   repr_1.1.4      lifecycle_1.0.1 jsonlite_1.8.5 \n",
       " [9] evaluate_0.14   pillar_1.6.4    rlang_1.0.6     cli_3.4.1      \n",
       "[13] uuid_1.0-3      vctrs_0.3.8     ellipsis_0.3.2  IRkernel_1.3   \n",
       "[17] tools_4.1.2     fastmap_1.1.0   compiler_4.1.2  base64enc_0.1-3\n",
       "[21] pbdZMQ_0.3-6    htmltools_0.5.2"
      ]
     },
     "metadata": {},
     "output_type": "display_data"
    }
   ],
   "source": [
    "sessionInfo()"
   ]
  },
  {
   "cell_type": "code",
   "execution_count": 3,
   "id": "1f4a9944-107e-43e9-8495-4b04cb8e768e",
   "metadata": {},
   "outputs": [],
   "source": [
    "rm(list = ls())\n",
    "library(data.table)\n",
    "library(magrittr)\n",
    "library(Rcpp)\n",
    "\n",
    "sourceCpp(\"shapeDTW_translate/dpcore.cpp\")\n",
    "source(\"dpfast.R\")\n",
    "source(\"dist2.R\")\n",
    "source(\"weightFunc.R\")\n",
    "source(\"shapeDTW_translate/shapeDTW.R\")\n",
    "source(\"shapeDTW_translate/DTWfast.R\")\n",
    "source(\"shapeDTW_translate/hist_cost_2.R\")\n",
    "source(\"shapeDTW_translate/zNormalizeTS.R\")\n",
    "source(\"shapeDTW_translate/samplingSequencesIdx.R\")\n",
    "source(\"shapeDTW_translate/calcDescriptor.R\")\n",
    "source(\"shapeDTW_translate/descriptorPAA.R\")\n",
    "source(\"shapeDTW_translate/PAA.R\")\n",
    "source(\"shapeDTW_translate/descriptorHOG1D.R\")\n",
    "source(\"shapeDTW_translate/validatePAAparam.R\")\n",
    "source(\"shapeDTW_translate/validatePAAdescriptorparam.R\")\n",
    "source(\"shapeDTW_translate/validateHOG1Dparam.R\")\n",
    "source(\"shapeDTW_translate/validateDWTdescriptorparam.R\")\n",
    "source(\"shapeDTW_translate/whichInterval.R\")\n",
    "source(\"shapeDTW_translate/wpath2mat.R\")\n",
    "source(\"shapeDTW_translate/plotElasticMatching.R\")"
   ]
  },
  {
   "cell_type": "markdown",
   "id": "624340d6-9e9c-4629-9859-0670125ec0ce",
   "metadata": {},
   "source": [
    "# Load Data"
   ]
  },
  {
   "cell_type": "code",
   "execution_count": 4,
   "id": "3b77ba7d-f1c2-4baa-8f9a-135a111e27d1",
   "metadata": {},
   "outputs": [
    {
     "name": "stdout",
     "output_type": "stream",
     "text": [
      "Classes 'data.table' and 'data.frame':\t104444 obs. of  21 variables:\n",
      " $ period_begin                  : IDate, format: \"2012-01-01\" \"2012-02-01\" ...\n",
      " $ period_end                    : IDate, format: \"2012-01-31\" \"2012-02-29\" ...\n",
      " $ period_duration               : int  30 30 30 30 30 30 30 30 30 30 ...\n",
      " $ region                        : chr  \"Aberdeen, SD metro area\" \"Aberdeen, SD metro area\" \"Aberdeen, SD metro area\" \"Aberdeen, SD metro area\" ...\n",
      " $ state_code                    : chr  \"SD\" \"SD\" \"SD\" \"SD\" ...\n",
      " $ median_sale_price             : num  64000 159300 93000 112500 116900 ...\n",
      " $ median_list_price             : num  226250 99900 143200 111900 109900 ...\n",
      " $ median_ppsf                   : num  44.6 80.6 67.3 57.2 54.6 ...\n",
      " $ median_list_ppsf              : num  66.3 54.8 71.9 61.4 62.9 ...\n",
      " $ homes_sold                    : int  3 1 3 3 6 3 6 4 6 9 ...\n",
      " $ pending_sales                 : int  1 NA 2 1 3 1 1 4 3 3 ...\n",
      " $ new_listings                  : int  2 3 14 2 3 10 4 8 8 2 ...\n",
      " $ inventory                     : int  13 16 27 26 23 30 29 33 35 28 ...\n",
      " $ months_of_supply              : num  4.3 16 9 8.7 3.8 10 4.8 8.3 5.8 3.1 ...\n",
      " $ median_dom                    : int  256 559 53 97 135 219 191 65 63 112 ...\n",
      " $ avg_sale_to_list              : num  0.979 1.135 0.972 0.967 0.964 ...\n",
      " $ sold_above_list               : num  0.333 1 0 0 0 ...\n",
      " $ price_drops                   : num  NA NA NA NA NA NA NA NA NA NA ...\n",
      " $ off_market_in_two_weeks       : num  0 NA 0 0 0 ...\n",
      " $ parent_metro_region           : chr  \"Aberdeen, SD\" \"Aberdeen, SD\" \"Aberdeen, SD\" \"Aberdeen, SD\" ...\n",
      " $ parent_metro_region_metro_code: int  10100 10100 10100 10100 10100 10100 10100 10100 10100 10100 ...\n",
      " - attr(*, \".internal.selfref\")=<externalptr> \n"
     ]
    }
   ],
   "source": [
    "dt <- fread('demo_HousingMarket/data_sfh.csv')\n",
    "str(dt)"
   ]
  },
  {
   "cell_type": "markdown",
   "id": "66815337-0a17-4ae6-be71-3d9fe487f314",
   "metadata": {},
   "source": [
    "## Drop Metros with Missing Data"
   ]
  },
  {
   "cell_type": "code",
   "execution_count": 5,
   "id": "3f178396-55da-4e3a-8e66-be91cceeb63c",
   "metadata": {},
   "outputs": [
    {
     "data": {
      "text/html": [
       "<style>\n",
       ".dl-inline {width: auto; margin:0; padding: 0}\n",
       ".dl-inline>dt, .dl-inline>dd {float: none; width: auto; display: inline-block}\n",
       ".dl-inline>dt::after {content: \":\\0020\"; padding-right: .5ex}\n",
       ".dl-inline>dt:not(:first-of-type) {padding-left: .5ex}\n",
       "</style><dl class=dl-inline><dt>period_begin</dt><dd>0</dd><dt>period_end</dt><dd>0</dd><dt>period_duration</dt><dd>0</dd><dt>region</dt><dd>0</dd><dt>state_code</dt><dd>0</dd><dt>median_sale_price</dt><dd>102</dd><dt>median_list_price</dt><dd>2644</dd><dt>median_ppsf</dt><dd>295</dd><dt>median_list_ppsf</dt><dd>2771</dd><dt>homes_sold</dt><dd>102</dd><dt>pending_sales</dt><dd>5323</dd><dt>new_listings</dt><dd>2973</dd><dt>inventory</dt><dd>1118</dd><dt>months_of_supply</dt><dd>644</dd><dt>median_dom</dt><dd>1042</dd><dt>avg_sale_to_list</dt><dd>3754</dd><dt>sold_above_list</dt><dd>136</dd><dt>price_drops</dt><dd>53764</dd><dt>off_market_in_two_weeks</dt><dd>4941</dd><dt>parent_metro_region</dt><dd>0</dd><dt>parent_metro_region_metro_code</dt><dd>0</dd></dl>\n"
      ],
      "text/latex": [
       "\\begin{description*}\n",
       "\\item[period\\textbackslash{}\\_begin] 0\n",
       "\\item[period\\textbackslash{}\\_end] 0\n",
       "\\item[period\\textbackslash{}\\_duration] 0\n",
       "\\item[region] 0\n",
       "\\item[state\\textbackslash{}\\_code] 0\n",
       "\\item[median\\textbackslash{}\\_sale\\textbackslash{}\\_price] 102\n",
       "\\item[median\\textbackslash{}\\_list\\textbackslash{}\\_price] 2644\n",
       "\\item[median\\textbackslash{}\\_ppsf] 295\n",
       "\\item[median\\textbackslash{}\\_list\\textbackslash{}\\_ppsf] 2771\n",
       "\\item[homes\\textbackslash{}\\_sold] 102\n",
       "\\item[pending\\textbackslash{}\\_sales] 5323\n",
       "\\item[new\\textbackslash{}\\_listings] 2973\n",
       "\\item[inventory] 1118\n",
       "\\item[months\\textbackslash{}\\_of\\textbackslash{}\\_supply] 644\n",
       "\\item[median\\textbackslash{}\\_dom] 1042\n",
       "\\item[avg\\textbackslash{}\\_sale\\textbackslash{}\\_to\\textbackslash{}\\_list] 3754\n",
       "\\item[sold\\textbackslash{}\\_above\\textbackslash{}\\_list] 136\n",
       "\\item[price\\textbackslash{}\\_drops] 53764\n",
       "\\item[off\\textbackslash{}\\_market\\textbackslash{}\\_in\\textbackslash{}\\_two\\textbackslash{}\\_weeks] 4941\n",
       "\\item[parent\\textbackslash{}\\_metro\\textbackslash{}\\_region] 0\n",
       "\\item[parent\\textbackslash{}\\_metro\\textbackslash{}\\_region\\textbackslash{}\\_metro\\textbackslash{}\\_code] 0\n",
       "\\end{description*}\n"
      ],
      "text/markdown": [
       "period_begin\n",
       ":   0period_end\n",
       ":   0period_duration\n",
       ":   0region\n",
       ":   0state_code\n",
       ":   0median_sale_price\n",
       ":   102median_list_price\n",
       ":   2644median_ppsf\n",
       ":   295median_list_ppsf\n",
       ":   2771homes_sold\n",
       ":   102pending_sales\n",
       ":   5323new_listings\n",
       ":   2973inventory\n",
       ":   1118months_of_supply\n",
       ":   644median_dom\n",
       ":   1042avg_sale_to_list\n",
       ":   3754sold_above_list\n",
       ":   136price_drops\n",
       ":   53764off_market_in_two_weeks\n",
       ":   4941parent_metro_region\n",
       ":   0parent_metro_region_metro_code\n",
       ":   0\n",
       "\n"
      ],
      "text/plain": [
       "                  period_begin                     period_end \n",
       "                             0                              0 \n",
       "               period_duration                         region \n",
       "                             0                              0 \n",
       "                    state_code              median_sale_price \n",
       "                             0                            102 \n",
       "             median_list_price                    median_ppsf \n",
       "                          2644                            295 \n",
       "              median_list_ppsf                     homes_sold \n",
       "                          2771                            102 \n",
       "                 pending_sales                   new_listings \n",
       "                          5323                           2973 \n",
       "                     inventory               months_of_supply \n",
       "                          1118                            644 \n",
       "                    median_dom               avg_sale_to_list \n",
       "                          1042                           3754 \n",
       "               sold_above_list                    price_drops \n",
       "                           136                          53764 \n",
       "       off_market_in_two_weeks            parent_metro_region \n",
       "                          4941                              0 \n",
       "parent_metro_region_metro_code \n",
       "                             0 "
      ]
     },
     "metadata": {},
     "output_type": "display_data"
    }
   ],
   "source": [
    "# NA's\n",
    "colSums(is.na(dt))"
   ]
  },
  {
   "cell_type": "code",
   "execution_count": 6,
   "id": "5d1a4925-b9d6-4cfc-9431-422269d09be4",
   "metadata": {},
   "outputs": [
    {
     "name": "stdout",
     "output_type": "stream",
     "text": [
      "Number of All Regions: 909\n",
      "Number of Regions w/o NAs: 856"
     ]
    }
   ],
   "source": [
    "# Select metros without NAs\n",
    "dt[, ':='(id_NA = max(is.na(median_sale_price)|is.na(median_ppsf)), n_month = .N)\n",
    "   , by='region']\n",
    "dt_nonNA <- dt[id_NA==FALSE]\n",
    "\n",
    "metro_list_all <- unique(dt$region)\n",
    "metro_list_nonNA <- unique(dt_nonNA$region)\n",
    "cat(paste0('Number of All Regions: ', length(metro_list_all),\n",
    "           '\\nNumber of Regions w/o NAs: ', length(metro_list_nonNA)))"
   ]
  },
  {
   "cell_type": "markdown",
   "id": "1e3dc186-d6ff-4732-9c6c-23a2e5b82f16",
   "metadata": {},
   "source": [
    "## Select Metros with Same Data Length"
   ]
  },
  {
   "cell_type": "code",
   "execution_count": 7,
   "id": "8a9d9a2f-047a-47b8-98f9-56bd89dca3d5",
   "metadata": {},
   "outputs": [
    {
     "data": {
      "text/plain": [
       "\n",
       "  4   5   6   7  16  18  20  21  22  24  25  26  27  29  30  31  34  36  40  41 \n",
       "  1   1   1   1   1   1   2   1   1   2   2   2   2   1   2   1   1   1   5   2 \n",
       " 42  43  44  45  46  47  48  49  50  51  52  53  54  55  56  57  58  59  60  61 \n",
       "  2   2   3   4   2   4   1   2   5   4   3  11   5   2   4   5   7   5   3   4 \n",
       " 62  63  64  65  67  68  69  70  71  72  73  74  75  77  78  79  81  83  84  85 \n",
       "  4   2   1   2   5   1   2   5   4   1   4   5   3   3   1   2   2   2   2   3 \n",
       " 86  87  89  90  91  92  94  95  96  97  98  99 100 102 103 104 105 106 107 108 \n",
       "  3   1   1   2   2   1   1   3   7   2   4   4   3  14   4   3   1   3   4   3 \n",
       "111 112 113 114 115 118 119 120 121 122 123 124 125 126 127 128 129 130 131 132 \n",
       "  3   1   1   2   3   3   1   3   2   2  12   2   2   1   2   2   3   7   4   6 \n",
       "133 134 135 136 \n",
       "  9  13  13 530 "
      ]
     },
     "metadata": {},
     "output_type": "display_data"
    }
   ],
   "source": [
    "# Check the distribution of data length by metro\n",
    "table(dt_nonNA[, .(len = unique(n_month)), by='region']$len)"
   ]
  },
  {
   "cell_type": "code",
   "execution_count": 8,
   "id": "9b00419d-7184-4ddb-8e87-7118e9cd70ff",
   "metadata": {},
   "outputs": [
    {
     "name": "stdout",
     "output_type": "stream",
     "text": [
      "                  region      start        end n_month\n",
      "1: Austin, MN metro area 2012-01-01 2023-04-01     136\n",
      "2: Austin, TX metro area 2012-01-01 2023-04-01     136\n",
      "                   region      start        end n_month\n",
      "1: Detroit, MI metro area 2013-02-01 2023-04-01     123\n",
      "                    region      start        end n_month\n",
      "1: New York, NY metro area 2015-05-01 2023-04-01      96\n"
     ]
    }
   ],
   "source": [
    "# Find metros of interest\n",
    "metro_interest <- c('Austin', 'Detroit', 'New York')\n",
    "for (m in metro_interest) {\n",
    "    metro <- grep(m, metro_list_nonNA, value=TRUE)\n",
    "    print(dt_nonNA[region %in% metro\n",
    "                   , .(start=min(period_begin), end=max(period_begin), n_month=unique(n_month))\n",
    "                   , by='region'])\n",
    "}"
   ]
  },
  {
   "cell_type": "code",
   "execution_count": 9,
   "id": "ffb6f399-948d-4417-b574-ec90d19ebd68",
   "metadata": {},
   "outputs": [
    {
     "name": "stdout",
     "output_type": "stream",
     "text": [
      "Classes 'data.table' and 'data.frame':\t54208 obs. of  24 variables:\n",
      " $ period_begin                  : IDate, format: \"2016-01-01\" \"2016-02-01\" ...\n",
      " $ period_end                    : IDate, format: \"2016-01-31\" \"2016-02-29\" ...\n",
      " $ period_duration               : int  30 30 30 30 30 30 30 30 30 30 ...\n",
      " $ region                        : chr  \"Aberdeen, SD metro area\" \"Aberdeen, SD metro area\" \"Aberdeen, SD metro area\" \"Aberdeen, SD metro area\" ...\n",
      " $ state_code                    : chr  \"SD\" \"SD\" \"SD\" \"SD\" ...\n",
      " $ median_sale_price             : num  157275 153500 145000 139450 145000 ...\n",
      " $ median_list_price             : num  153500 151900 158900 179000 141900 ...\n",
      " $ median_ppsf                   : num  75 64 73.4 70 67.2 ...\n",
      " $ median_list_ppsf              : num  70.5 70.3 76.4 88.8 67.2 ...\n",
      " $ homes_sold                    : int  4 6 9 10 16 10 14 10 11 12 ...\n",
      " $ pending_sales                 : int  2 3 5 3 5 9 7 5 2 8 ...\n",
      " $ new_listings                  : int  7 8 20 11 12 16 10 12 16 11 ...\n",
      " $ inventory                     : int  34 35 46 44 42 49 46 48 53 52 ...\n",
      " $ months_of_supply              : num  8.5 5.8 5.1 4.4 2.6 4.9 3.3 4.8 4.8 4.3 ...\n",
      " $ median_dom                    : int  177 103 82 177 120 65 89 88 136 69 ...\n",
      " $ avg_sale_to_list              : num  0.994 0.886 0.984 0.992 0.982 ...\n",
      " $ sold_above_list               : num  0.25 0 0.111 0.2 0.375 ...\n",
      " $ price_drops                   : num  NA NA NA NA NA NA NA NA NA NA ...\n",
      " $ off_market_in_two_weeks       : num  0 0 0 0 0 ...\n",
      " $ parent_metro_region           : chr  \"Aberdeen, SD\" \"Aberdeen, SD\" \"Aberdeen, SD\" \"Aberdeen, SD\" ...\n",
      " $ parent_metro_region_metro_code: int  10100 10100 10100 10100 10100 10100 10100 10100 10100 10100 ...\n",
      " $ id_NA                         : int  0 0 0 0 0 0 0 0 0 0 ...\n",
      " $ n_month                       : int  136 136 136 136 136 136 136 136 136 136 ...\n",
      " $ sel                           : int  1 1 1 1 1 1 1 1 1 1 ...\n",
      " - attr(*, \".internal.selfref\")=<externalptr> \n"
     ]
    }
   ],
   "source": [
    "# Select metros with the same length of data (7 years and 4 months upto 2023 April)\n",
    "dt_sel <- dt_nonNA[period_begin>=as.Date(\"2016-01-01\")][\n",
    "    , sel := max(sum(period_begin>=as.Date(\"2016-01-01\"))==((2023-2016)*12+4))\n",
    "    , by='region'][sel==1]\n",
    "str(dt_sel)"
   ]
  },
  {
   "cell_type": "markdown",
   "id": "df7990df-4433-48e2-ab6a-a0d8ad9892ae",
   "metadata": {},
   "source": [
    "# TD-ShapeDTW"
   ]
  },
  {
   "cell_type": "code",
   "execution_count": 10,
   "id": "75778b92-cee7-466e-a3ce-70af3336fed9",
   "metadata": {},
   "outputs": [
    {
     "name": "stdout",
     "output_type": "stream",
     "text": [
      "[1] 616\n"
     ]
    },
    {
     "data": {
      "text/html": [
       "'Detroit, MI metro area'"
      ],
      "text/latex": [
       "'Detroit, MI metro area'"
      ],
      "text/markdown": [
       "'Detroit, MI metro area'"
      ],
      "text/plain": [
       "[1] \"Detroit, MI metro area\""
      ]
     },
     "metadata": {},
     "output_type": "display_data"
    }
   ],
   "source": [
    "metro_list_sel <- unique(dt_sel$region)\n",
    "print(length(metro_list_sel))\n",
    "\n",
    "# target metro\n",
    "metro_t <- grep('Detroit', metro_list_sel, value=TRUE)\n",
    "metro_t"
   ]
  },
  {
   "cell_type": "code",
   "execution_count": 11,
   "id": "897afa65-8b4b-4956-a43d-c3dd57d539d6",
   "metadata": {},
   "outputs": [
    {
     "name": "stdout",
     "output_type": "stream",
     "text": [
      "Classes 'data.table' and 'data.frame':\t54208 obs. of  26 variables:\n",
      " $ period_begin                  : IDate, format: \"2016-01-01\" \"2016-02-01\" ...\n",
      " $ period_end                    : IDate, format: \"2016-01-31\" \"2016-02-29\" ...\n",
      " $ period_duration               : int  30 30 30 30 30 30 30 30 30 30 ...\n",
      " $ region                        : chr  \"Aberdeen, SD metro area\" \"Aberdeen, SD metro area\" \"Aberdeen, SD metro area\" \"Aberdeen, SD metro area\" ...\n",
      " $ state_code                    : chr  \"SD\" \"SD\" \"SD\" \"SD\" ...\n",
      " $ median_sale_price             : num  157275 153500 145000 139450 145000 ...\n",
      " $ median_list_price             : num  153500 151900 158900 179000 141900 ...\n",
      " $ median_ppsf                   : num  75 64 73.4 70 67.2 ...\n",
      " $ median_list_ppsf              : num  70.5 70.3 76.4 88.8 67.2 ...\n",
      " $ homes_sold                    : int  4 6 9 10 16 10 14 10 11 12 ...\n",
      " $ pending_sales                 : int  2 3 5 3 5 9 7 5 2 8 ...\n",
      " $ new_listings                  : int  7 8 20 11 12 16 10 12 16 11 ...\n",
      " $ inventory                     : int  34 35 46 44 42 49 46 48 53 52 ...\n",
      " $ months_of_supply              : num  8.5 5.8 5.1 4.4 2.6 4.9 3.3 4.8 4.8 4.3 ...\n",
      " $ median_dom                    : int  177 103 82 177 120 65 89 88 136 69 ...\n",
      " $ avg_sale_to_list              : num  0.994 0.886 0.984 0.992 0.982 ...\n",
      " $ sold_above_list               : num  0.25 0 0.111 0.2 0.375 ...\n",
      " $ price_drops                   : num  NA NA NA NA NA NA NA NA NA NA ...\n",
      " $ off_market_in_two_weeks       : num  0 0 0 0 0 ...\n",
      " $ parent_metro_region           : chr  \"Aberdeen, SD\" \"Aberdeen, SD\" \"Aberdeen, SD\" \"Aberdeen, SD\" ...\n",
      " $ parent_metro_region_metro_code: int  10100 10100 10100 10100 10100 10100 10100 10100 10100 10100 ...\n",
      " $ id_NA                         : int  0 0 0 0 0 0 0 0 0 0 ...\n",
      " $ n_month                       : int  136 136 136 136 136 136 136 136 136 136 ...\n",
      " $ sel                           : int  1 1 1 1 1 1 1 1 1 1 ...\n",
      " $ median_sale_price_std         : num  -0.516 -0.642 -0.927 -1.113 -0.927 ...\n",
      " $ median_ppsf_std               : num  -0.683 -1.608 -0.817 -1.106 -1.336 ...\n",
      " - attr(*, \".internal.selfref\")=<externalptr> \n"
     ]
    }
   ],
   "source": [
    "var_sel <- c('median_sale_price', 'median_ppsf')\n",
    "dt_sel[, (paste0(var_sel, '_std')) := lapply(.SD, zNormalizeTS)\n",
    "       , .SDcols=var_sel, by='region']\n",
    "str(dt_sel)"
   ]
  },
  {
   "cell_type": "code",
   "execution_count": 22,
   "id": "77cdde08-7a03-4d18-948e-5760fc0b1632",
   "metadata": {},
   "outputs": [],
   "source": [
    "metro_t_dist <- dt_sel[, .(dtw=0, shapedtw=0), by='region']\n",
    "metro_t_dist_results <- list()\n",
    "\n",
    "for (m in metro_list_sel) {\n",
    "    align_td_shapeDTW <- shapeDTW(as.vector(dt_sel[region==metro_t]$median_sale_price_std),\n",
    "                                  as.vector(dt_sel[region==m]$median_sale_price_std), \n",
    "                                  seqlen=5, wt_func = weight_fcn_prod)\n",
    "    metro_t_dist_results[m] <- list(align_td_shapeDTW)\n",
    "    metro_t_dist[region==m, ':='(dtw=align_td_shapeDTW$distRaw,\n",
    "                                 shapedtw=align_td_shapeDTW$distDescriptor)]\n",
    "}\n",
    "\n",
    "metrics <- c('dtw', 'shapedtw')\n",
    "metro_t_dist[, (paste0(metrics, '_rank')) := lapply(.SD, function(x) frank(x, ties.method='min'))\n",
    "             , .SDcols=metrics]"
   ]
  },
  {
   "cell_type": "code",
   "execution_count": 23,
   "id": "9dc5c6d7-ca05-4140-ba8f-210fc2e4302b",
   "metadata": {},
   "outputs": [
    {
     "data": {
      "text/html": [
       "<table class=\"dataframe\">\n",
       "<caption>A data.table: 20 × 5</caption>\n",
       "<thead>\n",
       "\t<tr><th scope=col>region</th><th scope=col>dtw</th><th scope=col>shapedtw</th><th scope=col>dtw_rank</th><th scope=col>shapedtw_rank</th></tr>\n",
       "\t<tr><th scope=col>&lt;chr&gt;</th><th scope=col>&lt;dbl&gt;</th><th scope=col>&lt;dbl&gt;</th><th scope=col>&lt;int&gt;</th><th scope=col>&lt;int&gt;</th></tr>\n",
       "</thead>\n",
       "<tbody>\n",
       "\t<tr><td>Detroit, MI metro area       </td><td> 0.00000</td><td> 0.00000</td><td>  1</td><td> 1</td></tr>\n",
       "\t<tr><td>Warren, MI metro area        </td><td>15.99215</td><td>17.63385</td><td>  2</td><td> 2</td></tr>\n",
       "\t<tr><td>Rochester, NY metro area     </td><td>23.62208</td><td>19.60748</td><td> 17</td><td> 3</td></tr>\n",
       "\t<tr><td>Kansas City, MO metro area   </td><td>25.14352</td><td>19.63358</td><td> 28</td><td> 4</td></tr>\n",
       "\t<tr><td>Baltimore, MD metro area     </td><td>21.14041</td><td>19.89439</td><td>  6</td><td> 5</td></tr>\n",
       "\t<tr><td>Minneapolis, MN metro area   </td><td>25.17311</td><td>19.91407</td><td> 29</td><td> 6</td></tr>\n",
       "\t<tr><td>Virginia Beach, VA metro area</td><td>24.38635</td><td>19.92861</td><td> 23</td><td> 7</td></tr>\n",
       "\t<tr><td>Worcester, MA metro area     </td><td>27.19758</td><td>20.08800</td><td> 51</td><td> 8</td></tr>\n",
       "\t<tr><td>St. Louis, MO metro area     </td><td>24.11837</td><td>20.09716</td><td> 19</td><td> 9</td></tr>\n",
       "\t<tr><td>Louisville, KY metro area    </td><td>23.20362</td><td>20.13478</td><td> 14</td><td>10</td></tr>\n",
       "\t<tr><td>New York, NY metro area      </td><td>29.35665</td><td>20.21138</td><td> 89</td><td>11</td></tr>\n",
       "\t<tr><td>Cincinnati, OH metro area    </td><td>23.06426</td><td>20.22071</td><td> 13</td><td>12</td></tr>\n",
       "\t<tr><td>Seattle, WA metro area       </td><td>25.50547</td><td>20.33281</td><td> 34</td><td>13</td></tr>\n",
       "\t<tr><td>Springfield, MA metro area   </td><td>25.82851</td><td>20.38930</td><td> 36</td><td>14</td></tr>\n",
       "\t<tr><td>Hartford, CT metro area      </td><td>32.94993</td><td>20.42118</td><td>183</td><td>15</td></tr>\n",
       "\t<tr><td>Dallas, TX metro area        </td><td>34.29024</td><td>20.60438</td><td>226</td><td>16</td></tr>\n",
       "\t<tr><td>Pittsburgh, PA metro area    </td><td>18.84492</td><td>20.72691</td><td>  3</td><td>17</td></tr>\n",
       "\t<tr><td>Bremerton, WA metro area     </td><td>27.02584</td><td>20.74678</td><td> 48</td><td>18</td></tr>\n",
       "\t<tr><td>Chicago, IL metro area       </td><td>22.10626</td><td>20.76545</td><td>  8</td><td>19</td></tr>\n",
       "\t<tr><td>Cleveland, OH metro area     </td><td>19.65090</td><td>20.82801</td><td>  4</td><td>20</td></tr>\n",
       "</tbody>\n",
       "</table>\n"
      ],
      "text/latex": [
       "A data.table: 20 × 5\n",
       "\\begin{tabular}{lllll}\n",
       " region & dtw & shapedtw & dtw\\_rank & shapedtw\\_rank\\\\\n",
       " <chr> & <dbl> & <dbl> & <int> & <int>\\\\\n",
       "\\hline\n",
       "\t Detroit, MI metro area        &  0.00000 &  0.00000 &   1 &  1\\\\\n",
       "\t Warren, MI metro area         & 15.99215 & 17.63385 &   2 &  2\\\\\n",
       "\t Rochester, NY metro area      & 23.62208 & 19.60748 &  17 &  3\\\\\n",
       "\t Kansas City, MO metro area    & 25.14352 & 19.63358 &  28 &  4\\\\\n",
       "\t Baltimore, MD metro area      & 21.14041 & 19.89439 &   6 &  5\\\\\n",
       "\t Minneapolis, MN metro area    & 25.17311 & 19.91407 &  29 &  6\\\\\n",
       "\t Virginia Beach, VA metro area & 24.38635 & 19.92861 &  23 &  7\\\\\n",
       "\t Worcester, MA metro area      & 27.19758 & 20.08800 &  51 &  8\\\\\n",
       "\t St. Louis, MO metro area      & 24.11837 & 20.09716 &  19 &  9\\\\\n",
       "\t Louisville, KY metro area     & 23.20362 & 20.13478 &  14 & 10\\\\\n",
       "\t New York, NY metro area       & 29.35665 & 20.21138 &  89 & 11\\\\\n",
       "\t Cincinnati, OH metro area     & 23.06426 & 20.22071 &  13 & 12\\\\\n",
       "\t Seattle, WA metro area        & 25.50547 & 20.33281 &  34 & 13\\\\\n",
       "\t Springfield, MA metro area    & 25.82851 & 20.38930 &  36 & 14\\\\\n",
       "\t Hartford, CT metro area       & 32.94993 & 20.42118 & 183 & 15\\\\\n",
       "\t Dallas, TX metro area         & 34.29024 & 20.60438 & 226 & 16\\\\\n",
       "\t Pittsburgh, PA metro area     & 18.84492 & 20.72691 &   3 & 17\\\\\n",
       "\t Bremerton, WA metro area      & 27.02584 & 20.74678 &  48 & 18\\\\\n",
       "\t Chicago, IL metro area        & 22.10626 & 20.76545 &   8 & 19\\\\\n",
       "\t Cleveland, OH metro area      & 19.65090 & 20.82801 &   4 & 20\\\\\n",
       "\\end{tabular}\n"
      ],
      "text/markdown": [
       "\n",
       "A data.table: 20 × 5\n",
       "\n",
       "| region &lt;chr&gt; | dtw &lt;dbl&gt; | shapedtw &lt;dbl&gt; | dtw_rank &lt;int&gt; | shapedtw_rank &lt;int&gt; |\n",
       "|---|---|---|---|---|\n",
       "| Detroit, MI metro area        |  0.00000 |  0.00000 |   1 |  1 |\n",
       "| Warren, MI metro area         | 15.99215 | 17.63385 |   2 |  2 |\n",
       "| Rochester, NY metro area      | 23.62208 | 19.60748 |  17 |  3 |\n",
       "| Kansas City, MO metro area    | 25.14352 | 19.63358 |  28 |  4 |\n",
       "| Baltimore, MD metro area      | 21.14041 | 19.89439 |   6 |  5 |\n",
       "| Minneapolis, MN metro area    | 25.17311 | 19.91407 |  29 |  6 |\n",
       "| Virginia Beach, VA metro area | 24.38635 | 19.92861 |  23 |  7 |\n",
       "| Worcester, MA metro area      | 27.19758 | 20.08800 |  51 |  8 |\n",
       "| St. Louis, MO metro area      | 24.11837 | 20.09716 |  19 |  9 |\n",
       "| Louisville, KY metro area     | 23.20362 | 20.13478 |  14 | 10 |\n",
       "| New York, NY metro area       | 29.35665 | 20.21138 |  89 | 11 |\n",
       "| Cincinnati, OH metro area     | 23.06426 | 20.22071 |  13 | 12 |\n",
       "| Seattle, WA metro area        | 25.50547 | 20.33281 |  34 | 13 |\n",
       "| Springfield, MA metro area    | 25.82851 | 20.38930 |  36 | 14 |\n",
       "| Hartford, CT metro area       | 32.94993 | 20.42118 | 183 | 15 |\n",
       "| Dallas, TX metro area         | 34.29024 | 20.60438 | 226 | 16 |\n",
       "| Pittsburgh, PA metro area     | 18.84492 | 20.72691 |   3 | 17 |\n",
       "| Bremerton, WA metro area      | 27.02584 | 20.74678 |  48 | 18 |\n",
       "| Chicago, IL metro area        | 22.10626 | 20.76545 |   8 | 19 |\n",
       "| Cleveland, OH metro area      | 19.65090 | 20.82801 |   4 | 20 |\n",
       "\n"
      ],
      "text/plain": [
       "   region                        dtw      shapedtw dtw_rank shapedtw_rank\n",
       "1  Detroit, MI metro area         0.00000  0.00000   1       1           \n",
       "2  Warren, MI metro area         15.99215 17.63385   2       2           \n",
       "3  Rochester, NY metro area      23.62208 19.60748  17       3           \n",
       "4  Kansas City, MO metro area    25.14352 19.63358  28       4           \n",
       "5  Baltimore, MD metro area      21.14041 19.89439   6       5           \n",
       "6  Minneapolis, MN metro area    25.17311 19.91407  29       6           \n",
       "7  Virginia Beach, VA metro area 24.38635 19.92861  23       7           \n",
       "8  Worcester, MA metro area      27.19758 20.08800  51       8           \n",
       "9  St. Louis, MO metro area      24.11837 20.09716  19       9           \n",
       "10 Louisville, KY metro area     23.20362 20.13478  14      10           \n",
       "11 New York, NY metro area       29.35665 20.21138  89      11           \n",
       "12 Cincinnati, OH metro area     23.06426 20.22071  13      12           \n",
       "13 Seattle, WA metro area        25.50547 20.33281  34      13           \n",
       "14 Springfield, MA metro area    25.82851 20.38930  36      14           \n",
       "15 Hartford, CT metro area       32.94993 20.42118 183      15           \n",
       "16 Dallas, TX metro area         34.29024 20.60438 226      16           \n",
       "17 Pittsburgh, PA metro area     18.84492 20.72691   3      17           \n",
       "18 Bremerton, WA metro area      27.02584 20.74678  48      18           \n",
       "19 Chicago, IL metro area        22.10626 20.76545   8      19           \n",
       "20 Cleveland, OH metro area      19.65090 20.82801   4      20           "
      ]
     },
     "metadata": {},
     "output_type": "display_data"
    }
   ],
   "source": [
    "head(metro_t_dist[order(shapedtw_rank)], 20)"
   ]
  },
  {
   "cell_type": "code",
   "execution_count": 24,
   "id": "3c99fb45-7c10-43af-9676-8990618a90db",
   "metadata": {},
   "outputs": [
    {
     "data": {
      "text/html": [
       "<table class=\"dataframe\">\n",
       "<caption>A data.table: 20 × 5</caption>\n",
       "<thead>\n",
       "\t<tr><th scope=col>region</th><th scope=col>dtw</th><th scope=col>shapedtw</th><th scope=col>dtw_rank</th><th scope=col>shapedtw_rank</th></tr>\n",
       "\t<tr><th scope=col>&lt;chr&gt;</th><th scope=col>&lt;dbl&gt;</th><th scope=col>&lt;dbl&gt;</th><th scope=col>&lt;int&gt;</th><th scope=col>&lt;int&gt;</th></tr>\n",
       "</thead>\n",
       "<tbody>\n",
       "\t<tr><td>Detroit, MI metro area   </td><td> 0.00000</td><td> 0.00000</td><td> 1</td><td>  1</td></tr>\n",
       "\t<tr><td>Warren, MI metro area    </td><td>15.99215</td><td>17.63385</td><td> 2</td><td>  2</td></tr>\n",
       "\t<tr><td>Pittsburgh, PA metro area</td><td>18.84492</td><td>20.72691</td><td> 3</td><td> 17</td></tr>\n",
       "\t<tr><td>Cleveland, OH metro area </td><td>19.65090</td><td>20.82801</td><td> 4</td><td> 20</td></tr>\n",
       "\t<tr><td>Lansing, MI metro area   </td><td>19.74426</td><td>24.31364</td><td> 5</td><td>123</td></tr>\n",
       "\t<tr><td>Baltimore, MD metro area </td><td>21.14041</td><td>19.89439</td><td> 6</td><td>  5</td></tr>\n",
       "\t<tr><td>Boston, MA metro area    </td><td>22.03253</td><td>21.88229</td><td> 7</td><td> 44</td></tr>\n",
       "\t<tr><td>Chicago, IL metro area   </td><td>22.10626</td><td>20.76545</td><td> 8</td><td> 19</td></tr>\n",
       "\t<tr><td>Youngstown, OH metro area</td><td>22.42083</td><td>23.40326</td><td> 9</td><td> 94</td></tr>\n",
       "\t<tr><td>Racine, WI metro area    </td><td>22.42867</td><td>27.48107</td><td>10</td><td>232</td></tr>\n",
       "\t<tr><td>Kalamazoo, MI metro area </td><td>22.66869</td><td>24.07126</td><td>11</td><td>118</td></tr>\n",
       "\t<tr><td>Oakland, CA metro area   </td><td>22.96887</td><td>22.57812</td><td>12</td><td> 63</td></tr>\n",
       "\t<tr><td>Cincinnati, OH metro area</td><td>23.06426</td><td>20.22071</td><td>13</td><td> 12</td></tr>\n",
       "\t<tr><td>Louisville, KY metro area</td><td>23.20362</td><td>20.13478</td><td>14</td><td> 10</td></tr>\n",
       "\t<tr><td>Flint, MI metro area     </td><td>23.48202</td><td>23.01505</td><td>15</td><td> 80</td></tr>\n",
       "\t<tr><td>Gary, IN metro area      </td><td>23.50773</td><td>21.94141</td><td>16</td><td> 45</td></tr>\n",
       "\t<tr><td>Rochester, NY metro area </td><td>23.62208</td><td>19.60748</td><td>17</td><td>  3</td></tr>\n",
       "\t<tr><td>Buffalo, NY metro area   </td><td>23.90789</td><td>21.26794</td><td>18</td><td> 24</td></tr>\n",
       "\t<tr><td>St. Louis, MO metro area </td><td>24.11837</td><td>20.09716</td><td>19</td><td>  9</td></tr>\n",
       "\t<tr><td>Albany, NY metro area    </td><td>24.25824</td><td>21.73006</td><td>20</td><td> 38</td></tr>\n",
       "</tbody>\n",
       "</table>\n"
      ],
      "text/latex": [
       "A data.table: 20 × 5\n",
       "\\begin{tabular}{lllll}\n",
       " region & dtw & shapedtw & dtw\\_rank & shapedtw\\_rank\\\\\n",
       " <chr> & <dbl> & <dbl> & <int> & <int>\\\\\n",
       "\\hline\n",
       "\t Detroit, MI metro area    &  0.00000 &  0.00000 &  1 &   1\\\\\n",
       "\t Warren, MI metro area     & 15.99215 & 17.63385 &  2 &   2\\\\\n",
       "\t Pittsburgh, PA metro area & 18.84492 & 20.72691 &  3 &  17\\\\\n",
       "\t Cleveland, OH metro area  & 19.65090 & 20.82801 &  4 &  20\\\\\n",
       "\t Lansing, MI metro area    & 19.74426 & 24.31364 &  5 & 123\\\\\n",
       "\t Baltimore, MD metro area  & 21.14041 & 19.89439 &  6 &   5\\\\\n",
       "\t Boston, MA metro area     & 22.03253 & 21.88229 &  7 &  44\\\\\n",
       "\t Chicago, IL metro area    & 22.10626 & 20.76545 &  8 &  19\\\\\n",
       "\t Youngstown, OH metro area & 22.42083 & 23.40326 &  9 &  94\\\\\n",
       "\t Racine, WI metro area     & 22.42867 & 27.48107 & 10 & 232\\\\\n",
       "\t Kalamazoo, MI metro area  & 22.66869 & 24.07126 & 11 & 118\\\\\n",
       "\t Oakland, CA metro area    & 22.96887 & 22.57812 & 12 &  63\\\\\n",
       "\t Cincinnati, OH metro area & 23.06426 & 20.22071 & 13 &  12\\\\\n",
       "\t Louisville, KY metro area & 23.20362 & 20.13478 & 14 &  10\\\\\n",
       "\t Flint, MI metro area      & 23.48202 & 23.01505 & 15 &  80\\\\\n",
       "\t Gary, IN metro area       & 23.50773 & 21.94141 & 16 &  45\\\\\n",
       "\t Rochester, NY metro area  & 23.62208 & 19.60748 & 17 &   3\\\\\n",
       "\t Buffalo, NY metro area    & 23.90789 & 21.26794 & 18 &  24\\\\\n",
       "\t St. Louis, MO metro area  & 24.11837 & 20.09716 & 19 &   9\\\\\n",
       "\t Albany, NY metro area     & 24.25824 & 21.73006 & 20 &  38\\\\\n",
       "\\end{tabular}\n"
      ],
      "text/markdown": [
       "\n",
       "A data.table: 20 × 5\n",
       "\n",
       "| region &lt;chr&gt; | dtw &lt;dbl&gt; | shapedtw &lt;dbl&gt; | dtw_rank &lt;int&gt; | shapedtw_rank &lt;int&gt; |\n",
       "|---|---|---|---|---|\n",
       "| Detroit, MI metro area    |  0.00000 |  0.00000 |  1 |   1 |\n",
       "| Warren, MI metro area     | 15.99215 | 17.63385 |  2 |   2 |\n",
       "| Pittsburgh, PA metro area | 18.84492 | 20.72691 |  3 |  17 |\n",
       "| Cleveland, OH metro area  | 19.65090 | 20.82801 |  4 |  20 |\n",
       "| Lansing, MI metro area    | 19.74426 | 24.31364 |  5 | 123 |\n",
       "| Baltimore, MD metro area  | 21.14041 | 19.89439 |  6 |   5 |\n",
       "| Boston, MA metro area     | 22.03253 | 21.88229 |  7 |  44 |\n",
       "| Chicago, IL metro area    | 22.10626 | 20.76545 |  8 |  19 |\n",
       "| Youngstown, OH metro area | 22.42083 | 23.40326 |  9 |  94 |\n",
       "| Racine, WI metro area     | 22.42867 | 27.48107 | 10 | 232 |\n",
       "| Kalamazoo, MI metro area  | 22.66869 | 24.07126 | 11 | 118 |\n",
       "| Oakland, CA metro area    | 22.96887 | 22.57812 | 12 |  63 |\n",
       "| Cincinnati, OH metro area | 23.06426 | 20.22071 | 13 |  12 |\n",
       "| Louisville, KY metro area | 23.20362 | 20.13478 | 14 |  10 |\n",
       "| Flint, MI metro area      | 23.48202 | 23.01505 | 15 |  80 |\n",
       "| Gary, IN metro area       | 23.50773 | 21.94141 | 16 |  45 |\n",
       "| Rochester, NY metro area  | 23.62208 | 19.60748 | 17 |   3 |\n",
       "| Buffalo, NY metro area    | 23.90789 | 21.26794 | 18 |  24 |\n",
       "| St. Louis, MO metro area  | 24.11837 | 20.09716 | 19 |   9 |\n",
       "| Albany, NY metro area     | 24.25824 | 21.73006 | 20 |  38 |\n",
       "\n"
      ],
      "text/plain": [
       "   region                    dtw      shapedtw dtw_rank shapedtw_rank\n",
       "1  Detroit, MI metro area     0.00000  0.00000  1         1          \n",
       "2  Warren, MI metro area     15.99215 17.63385  2         2          \n",
       "3  Pittsburgh, PA metro area 18.84492 20.72691  3        17          \n",
       "4  Cleveland, OH metro area  19.65090 20.82801  4        20          \n",
       "5  Lansing, MI metro area    19.74426 24.31364  5       123          \n",
       "6  Baltimore, MD metro area  21.14041 19.89439  6         5          \n",
       "7  Boston, MA metro area     22.03253 21.88229  7        44          \n",
       "8  Chicago, IL metro area    22.10626 20.76545  8        19          \n",
       "9  Youngstown, OH metro area 22.42083 23.40326  9        94          \n",
       "10 Racine, WI metro area     22.42867 27.48107 10       232          \n",
       "11 Kalamazoo, MI metro area  22.66869 24.07126 11       118          \n",
       "12 Oakland, CA metro area    22.96887 22.57812 12        63          \n",
       "13 Cincinnati, OH metro area 23.06426 20.22071 13        12          \n",
       "14 Louisville, KY metro area 23.20362 20.13478 14        10          \n",
       "15 Flint, MI metro area      23.48202 23.01505 15        80          \n",
       "16 Gary, IN metro area       23.50773 21.94141 16        45          \n",
       "17 Rochester, NY metro area  23.62208 19.60748 17         3          \n",
       "18 Buffalo, NY metro area    23.90789 21.26794 18        24          \n",
       "19 St. Louis, MO metro area  24.11837 20.09716 19         9          \n",
       "20 Albany, NY metro area     24.25824 21.73006 20        38          "
      ]
     },
     "metadata": {},
     "output_type": "display_data"
    }
   ],
   "source": [
    "head(metro_t_dist[order(dtw_rank)], 20)"
   ]
  },
  {
   "cell_type": "markdown",
   "id": "124daafb-cf23-46d2-8d2b-56518e00cbeb",
   "metadata": {},
   "source": [
    "## Plot"
   ]
  },
  {
   "cell_type": "code",
   "execution_count": 61,
   "id": "0d3e0ff4-33ef-4b48-93a1-fff360ea8081",
   "metadata": {},
   "outputs": [
    {
     "data": {
      "image/png": "[encoded data removed]",
      "text/plain": [
       "Plot with title \"DTW_rank3 - HOG1D\""
      ]
     },
     "metadata": {
      "image/png": {
       "height": 480,
       "width": 1080
      }
     },
     "output_type": "display_data"
    }
   ],
   "source": [
    "options(repr.plot.width = 18, repr.plot.height = 8)\n",
    "metro_q <- 'Pittsburgh, PA metro area'\n",
    "plotElasticMatching(dt_sel[region==metro_t]$median_sale_price, \n",
    "                    dt_sel[region==metro_q]$median_sale_price, \n",
    "                    metro_t_dist_results[[metro_q]]$match)\n",
    "title(\"DTW_rank3 - HOG1D\")"
   ]
  },
  {
   "cell_type": "code",
   "execution_count": 62,
   "id": "ab2bb8f0-b3a7-4ae5-a64b-b2f4aff90bf2",
   "metadata": {},
   "outputs": [
    {
     "data": {
      "image/png": "[encoded data removed]",
      "text/plain": [
       "Plot with title \"ShapeDTW_rank3 - HOG1D\""
      ]
     },
     "metadata": {
      "image/png": {
       "height": 480,
       "width": 1080
      }
     },
     "output_type": "display_data"
    }
   ],
   "source": [
    "metro_q <- 'Rochester, NY metro area'\n",
    "plotElasticMatching(dt_sel[region==metro_t]$median_sale_price, \n",
    "                    dt_sel[region==metro_q]$median_sale_price, \n",
    "                    metro_t_dist_results[[metro_q]]$match)\n",
    "title(\"ShapeDTW_rank3 - HOG1D\")"
   ]
  },
  {
   "cell_type": "code",
   "execution_count": 53,
   "id": "19188556-c40e-4f8c-8bfc-9dc5f58945ed",
   "metadata": {},
   "outputs": [],
   "source": [
    "library(ggplot2)"
   ]
  },
  {
   "cell_type": "code",
   "execution_count": 63,
   "id": "26ae0fa6-4796-4e18-9ff5-e8ae6f02b833",
   "metadata": {},
   "outputs": [
    {
     "data": {
      "image/png": "[encoded data removed]",
      "text/plain": [
       "plot without title"
      ]
     },
     "metadata": {
      "image/png": {
       "height": 480,
       "width": 1080
      }
     },
     "output_type": "display_data"
    }
   ],
   "source": [
    "metro_sel <- c(metro_t, 'Pittsburgh, PA metro area', 'Rochester, NY metro area')\n",
    "ggplot(data=dt_sel[region %in% metro_sel], aes(x=period_begin, y=median_sale_price, color=region)) + \n",
    "  geom_line(aes(linetype=region), size=1) +\n",
    "  geom_point() +\n",
    "  scale_x_date(breaks = \"3 month\") + \n",
    "  theme_bw() +\n",
    "  theme(\n",
    "    axis.text.x = element_text(angle = 90, vjust = 0.5, hjust = 1),\n",
    "    axis.title = element_text(size = 16), axis.text = element_text(size = 12), \n",
    "    legend.title = element_text(size = 16), legend.text = element_text(size = 12),\n",
    "    plot.background = element_blank(),\n",
    "    panel.grid.major = element_blank()\n",
    "  )"
   ]
  }
 ],
 "metadata": {
  "kernelspec": {
   "display_name": "R",
   "language": "R",
   "name": "ir"
  },
  "language_info": {
   "codemirror_mode": "r",
   "file_extension": ".r",
   "mimetype": "text/x-r-source",
   "name": "R",
   "pygments_lexer": "r",
   "version": "4.1.2"
  }
 },
 "nbformat": 4,
 "nbformat_minor": 5
}
