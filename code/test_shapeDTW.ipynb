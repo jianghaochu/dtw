{
 "cells": [
  {
   "cell_type": "code",
   "execution_count": 2,
   "metadata": {
    "vscode": {
     "languageId": "r"
    }
   },
   "outputs": [],
   "source": [
    "rm(list = ls())\n",
    "library(data.table)\n",
    "library(magrittr)\n",
    "library(Rcpp)\n",
    "\n",
    "sourceCpp(\"shapeDTW_translate/dpcore.cpp\")\n",
    "source(\"dpfast.R\")\n",
    "source(\"dist2.R\")\n",
    "source(\"shapeDTW_translate/hist_cost_2.R\")\n",
    "source(\"shapeDTW_translate/zNormalizeTS.R\")\n",
    "source(\"shapeDTW_translate/hist_cost_2.R\")\n",
    "source(\"shapeDTW_translate/samplingSequencesIdx.R\")\n",
    "source(\"shapeDTW_translate/calcDescriptor.R\")\n",
    "source(\"shapeDTW_translate/descriptorPAA.R\")\n",
    "source(\"shapeDTW_translate/PAA.R\")\n",
    "source(\"shapeDTW_translate/descriptorHOG1D.R\")\n",
    "source(\"shapeDTW_translate/validatePAAparam.R\")\n",
    "source(\"shapeDTW_translate/validatePAAdescriptorparam.R\")\n",
    "source(\"shapeDTW_translate/validateHOG1Dparam.R\")\n",
    "source(\"shapeDTW_translate/validateDWTdescriptorparam.R\")\n",
    "source(\"shapeDTW_translate/whichInterval.R\")\n",
    "source(\"shapeDTW_translate/wpath2mat.R\")"
   ]
  },
  {
   "cell_type": "code",
   "execution_count": 3,
   "metadata": {
    "vscode": {
     "languageId": "r"
    }
   },
   "outputs": [],
   "source": [
    "# Load in Beef data\n",
    "ts <- fread(\"UCRArchive_2018/Beef/Beef_TRAIN.tsv\")\n",
    "\n",
    "nInstances <- nrow(ts)\n",
    "seqlen <- 20  # Subsequence length\n",
    "ts_data <- ts[, -1] # Time series data\n",
    "ts_labels <- ts[, 1] # Label"
   ]
  },
  {
   "attachments": {},
   "cell_type": "markdown",
   "metadata": {},
   "source": [
    "Note:  ``%>%`` operator (in ``shapeDTW.R``) is used to chain multiple operations together, where the output of one operation is passed as the first argument to the next operation. "
   ]
  },
  {
   "cell_type": "code",
   "execution_count": 4,
   "metadata": {
    "vscode": {
     "languageId": "r"
    }
   },
   "outputs": [
    {
     "name": "stdout",
     "output_type": "stream",
     "text": [
      "Dimension of 1st Sequence: 470 x 1\n",
      "Dimension of 2nd Sequence: 470 x 1"
     ]
    }
   ],
   "source": [
    "# Randomly sample two sequences and normalize the sequences\n",
    "p <- zNormalizeTS(unlist(ts_data[sample(nInstances, 1), ]))\n",
    "q <- zNormalizeTS(unlist(ts_data[sample(nInstances, 1), ]))\n",
    "\n",
    "# Process the sequences\n",
    "p <- p %>% as.data.frame()\n",
    "q <- q %>% as.data.frame()\n",
    "cat(paste0(\"Dimension of 1st Sequence: \", paste(dim(p), collapse = \" x \"),\n",
    "           \"\\nDimension of 2nd Sequence: \", paste(dim(q), collapse = \" x \")))\n",
    "\n",
    "# Sequences length\n",
    "lenp <- nrow(p)\n",
    "lenq <- nrow(q)"
   ]
  },
  {
   "cell_type": "code",
   "execution_count": 5,
   "metadata": {
    "vscode": {
     "languageId": "r"
    }
   },
   "outputs": [],
   "source": [
    "# Descriptor: HOG1D\n",
    "#hog <- validateHOG1Dparam()\n",
    "#hog$cells <- c(1, round(seqlen/2)-1)\n",
    "#hog$overlap <- 0\n",
    "#hog$xscale <- 0.1\n",
    "#descriptorSetting <- list(method = \"HOG1D\", param = hog)\n",
    "\n",
    "\n",
    "# Descriptor: PAA\n",
    "paa <- validatePAAdescriptorparam() # list(segNum = 10, segLen = NULL, priority = \"segNum\")\n",
    "paa$priority <- \"segNum\"\n",
    "segNum <- ceiling(seqlen/5)\n",
    "paa$segNum <- segNum # segNum = 10\n",
    "descriptorSetting <- list(method = \"PAA\", param = paa)\n",
    "descriptorName <- descriptorSetting$method\n",
    "descriptorParam <- descriptorSetting$param"
   ]
  },
  {
   "attachments": {},
   "cell_type": "markdown",
   "metadata": {},
   "source": [
    "First compute descriptor at each point, and transform the univariate time series to multivariate one."
   ]
  },
  {
   "cell_type": "code",
   "execution_count": 6,
   "metadata": {
    "vscode": {
     "languageId": "r"
    }
   },
   "outputs": [],
   "source": [
    "# Compute descriptor of sequence p\n",
    "p_subsequences <- samplingSequencesIdx(p, seqlen, 1:lenp)$subsequences\n",
    "p_nsubsequences <- length(p_subsequences)\n",
    "p_descriptors <- vector(\"list\", p_nsubsequences)\n",
    "for (j in 1:p_nsubsequences) {\n",
    "  seq <- p_subsequences[[j]]\n",
    "  p_descriptors[[j]] <- calcDescriptor(seq, descriptorName, descriptorParam)$descriptor\n",
    "}\n",
    "p_descriptors <- do.call(rbind, p_descriptors)\n",
    "\n",
    "# Compute descriptor of sequence p\n",
    "q_subsequences <- samplingSequencesIdx(q, seqlen, 1:lenq)$subsequences\n",
    "q_nsubsequences <- length(q_subsequences)\n",
    "q_descriptors <- vector(\"list\", q_nsubsequences)\n",
    "for (j in 1:q_nsubsequences) {\n",
    "  seq <- q_subsequences[[j]]\n",
    "  q_descriptors[[j]] <- calcDescriptor(seq, descriptorName, descriptorParam)$descriptor\n",
    "}\n",
    "q_descriptors <- do.call(rbind, q_descriptors)"
   ]
  },
  {
   "cell_type": "code",
   "execution_count": 7,
   "metadata": {
    "vscode": {
     "languageId": "r"
    }
   },
   "outputs": [],
   "source": [
    "# Match multivariate time series 'p_descriptors' & 'q_descriptors': Euclidean distance\n",
    "d <- dist2(p_descriptors, q_descriptors)\n",
    "d <- sqrt(d)\n",
    "\n",
    "# Get the alignment path (match) and optimal cost\n",
    "dtw_res <- dpfast(d)\n",
    "idxp <- dtw_res[[1]]\n",
    "idxq <- dtw_res[[2]]\n",
    "cD <- dtw_res[[3]]\n",
    "pc <- dtw_res[[4]]\n",
    "match <- cbind(idxp, idxq)\n",
    "lPath <- length(idxp)\n",
    "distDescriptor <- sum(pc)\n",
    "\n",
    "# Compute distance using raw signals, instead of descriptor distances\n",
    "wp <- wpath2mat(idxp) %*% as.matrix(p)\n",
    "wq <- wpath2mat(idxq) %*% as.matrix(q)\n",
    "distRaw <- sum(sqrt((wp-wq)^2))"
   ]
  },
  {
   "cell_type": "code",
   "execution_count": 8,
   "metadata": {
    "vscode": {
     "languageId": "r"
    }
   },
   "outputs": [
    {
     "name": "stdout",
     "output_type": "stream",
     "text": [
      "[1] \"Raw minimum distance:  125.61414718924\"\n",
      "[1] \"Descriptor minimum distance:  327.961586476995\"\n"
     ]
    }
   ],
   "source": [
    "print(paste(\"Raw minimum distance: \", distRaw))\n",
    "print(paste(\"Descriptor minimum distance: \", distDescriptor))"
   ]
  },
  {
   "cell_type": "code",
   "execution_count": 9,
   "metadata": {
    "vscode": {
     "languageId": "r"
    }
   },
   "outputs": [
    {
     "data": {
      "text/html": [
       "<table class=\"dataframe\">\n",
       "<caption>A matrix: 496 × 2 of type dbl</caption>\n",
       "<thead>\n",
       "\t<tr><th scope=col>idxp</th><th scope=col>idxq</th></tr>\n",
       "</thead>\n",
       "<tbody>\n",
       "\t<tr><td> 1</td><td> 1</td></tr>\n",
       "\t<tr><td> 2</td><td> 1</td></tr>\n",
       "\t<tr><td> 3</td><td> 1</td></tr>\n",
       "\t<tr><td> 4</td><td> 1</td></tr>\n",
       "\t<tr><td> 5</td><td> 1</td></tr>\n",
       "\t<tr><td> 6</td><td> 2</td></tr>\n",
       "\t<tr><td> 7</td><td> 3</td></tr>\n",
       "\t<tr><td> 8</td><td> 4</td></tr>\n",
       "\t<tr><td> 9</td><td> 4</td></tr>\n",
       "\t<tr><td>10</td><td> 5</td></tr>\n",
       "\t<tr><td>11</td><td> 6</td></tr>\n",
       "\t<tr><td>12</td><td> 7</td></tr>\n",
       "\t<tr><td>13</td><td> 8</td></tr>\n",
       "\t<tr><td>14</td><td> 9</td></tr>\n",
       "\t<tr><td>15</td><td>10</td></tr>\n",
       "\t<tr><td>16</td><td>11</td></tr>\n",
       "\t<tr><td>17</td><td>12</td></tr>\n",
       "\t<tr><td>18</td><td>13</td></tr>\n",
       "\t<tr><td>19</td><td>14</td></tr>\n",
       "\t<tr><td>20</td><td>14</td></tr>\n",
       "\t<tr><td>21</td><td>15</td></tr>\n",
       "\t<tr><td>22</td><td>16</td></tr>\n",
       "\t<tr><td>23</td><td>17</td></tr>\n",
       "\t<tr><td>24</td><td>18</td></tr>\n",
       "\t<tr><td>25</td><td>18</td></tr>\n",
       "\t<tr><td>26</td><td>19</td></tr>\n",
       "\t<tr><td>27</td><td>20</td></tr>\n",
       "\t<tr><td>28</td><td>21</td></tr>\n",
       "\t<tr><td>29</td><td>22</td></tr>\n",
       "\t<tr><td>30</td><td>23</td></tr>\n",
       "\t<tr><td>⋮</td><td>⋮</td></tr>\n",
       "\t<tr><td>441</td><td>441</td></tr>\n",
       "\t<tr><td>442</td><td>442</td></tr>\n",
       "\t<tr><td>443</td><td>443</td></tr>\n",
       "\t<tr><td>444</td><td>444</td></tr>\n",
       "\t<tr><td>445</td><td>445</td></tr>\n",
       "\t<tr><td>446</td><td>446</td></tr>\n",
       "\t<tr><td>447</td><td>447</td></tr>\n",
       "\t<tr><td>448</td><td>448</td></tr>\n",
       "\t<tr><td>449</td><td>449</td></tr>\n",
       "\t<tr><td>450</td><td>450</td></tr>\n",
       "\t<tr><td>451</td><td>451</td></tr>\n",
       "\t<tr><td>452</td><td>452</td></tr>\n",
       "\t<tr><td>453</td><td>453</td></tr>\n",
       "\t<tr><td>454</td><td>454</td></tr>\n",
       "\t<tr><td>455</td><td>455</td></tr>\n",
       "\t<tr><td>456</td><td>456</td></tr>\n",
       "\t<tr><td>457</td><td>457</td></tr>\n",
       "\t<tr><td>458</td><td>458</td></tr>\n",
       "\t<tr><td>459</td><td>459</td></tr>\n",
       "\t<tr><td>460</td><td>460</td></tr>\n",
       "\t<tr><td>461</td><td>461</td></tr>\n",
       "\t<tr><td>462</td><td>462</td></tr>\n",
       "\t<tr><td>463</td><td>463</td></tr>\n",
       "\t<tr><td>464</td><td>464</td></tr>\n",
       "\t<tr><td>465</td><td>465</td></tr>\n",
       "\t<tr><td>466</td><td>466</td></tr>\n",
       "\t<tr><td>467</td><td>467</td></tr>\n",
       "\t<tr><td>468</td><td>468</td></tr>\n",
       "\t<tr><td>469</td><td>469</td></tr>\n",
       "\t<tr><td>470</td><td>470</td></tr>\n",
       "</tbody>\n",
       "</table>\n"
      ],
      "text/latex": [
       "A matrix: 496 × 2 of type dbl\n",
       "\\begin{tabular}{ll}\n",
       " idxp & idxq\\\\\n",
       "\\hline\n",
       "\t  1 &  1\\\\\n",
       "\t  2 &  1\\\\\n",
       "\t  3 &  1\\\\\n",
       "\t  4 &  1\\\\\n",
       "\t  5 &  1\\\\\n",
       "\t  6 &  2\\\\\n",
       "\t  7 &  3\\\\\n",
       "\t  8 &  4\\\\\n",
       "\t  9 &  4\\\\\n",
       "\t 10 &  5\\\\\n",
       "\t 11 &  6\\\\\n",
       "\t 12 &  7\\\\\n",
       "\t 13 &  8\\\\\n",
       "\t 14 &  9\\\\\n",
       "\t 15 & 10\\\\\n",
       "\t 16 & 11\\\\\n",
       "\t 17 & 12\\\\\n",
       "\t 18 & 13\\\\\n",
       "\t 19 & 14\\\\\n",
       "\t 20 & 14\\\\\n",
       "\t 21 & 15\\\\\n",
       "\t 22 & 16\\\\\n",
       "\t 23 & 17\\\\\n",
       "\t 24 & 18\\\\\n",
       "\t 25 & 18\\\\\n",
       "\t 26 & 19\\\\\n",
       "\t 27 & 20\\\\\n",
       "\t 28 & 21\\\\\n",
       "\t 29 & 22\\\\\n",
       "\t 30 & 23\\\\\n",
       "\t ⋮ & ⋮\\\\\n",
       "\t 441 & 441\\\\\n",
       "\t 442 & 442\\\\\n",
       "\t 443 & 443\\\\\n",
       "\t 444 & 444\\\\\n",
       "\t 445 & 445\\\\\n",
       "\t 446 & 446\\\\\n",
       "\t 447 & 447\\\\\n",
       "\t 448 & 448\\\\\n",
       "\t 449 & 449\\\\\n",
       "\t 450 & 450\\\\\n",
       "\t 451 & 451\\\\\n",
       "\t 452 & 452\\\\\n",
       "\t 453 & 453\\\\\n",
       "\t 454 & 454\\\\\n",
       "\t 455 & 455\\\\\n",
       "\t 456 & 456\\\\\n",
       "\t 457 & 457\\\\\n",
       "\t 458 & 458\\\\\n",
       "\t 459 & 459\\\\\n",
       "\t 460 & 460\\\\\n",
       "\t 461 & 461\\\\\n",
       "\t 462 & 462\\\\\n",
       "\t 463 & 463\\\\\n",
       "\t 464 & 464\\\\\n",
       "\t 465 & 465\\\\\n",
       "\t 466 & 466\\\\\n",
       "\t 467 & 467\\\\\n",
       "\t 468 & 468\\\\\n",
       "\t 469 & 469\\\\\n",
       "\t 470 & 470\\\\\n",
       "\\end{tabular}\n"
      ],
      "text/markdown": [
       "\n",
       "A matrix: 496 × 2 of type dbl\n",
       "\n",
       "| idxp | idxq |\n",
       "|---|---|\n",
       "|  1 |  1 |\n",
       "|  2 |  1 |\n",
       "|  3 |  1 |\n",
       "|  4 |  1 |\n",
       "|  5 |  1 |\n",
       "|  6 |  2 |\n",
       "|  7 |  3 |\n",
       "|  8 |  4 |\n",
       "|  9 |  4 |\n",
       "| 10 |  5 |\n",
       "| 11 |  6 |\n",
       "| 12 |  7 |\n",
       "| 13 |  8 |\n",
       "| 14 |  9 |\n",
       "| 15 | 10 |\n",
       "| 16 | 11 |\n",
       "| 17 | 12 |\n",
       "| 18 | 13 |\n",
       "| 19 | 14 |\n",
       "| 20 | 14 |\n",
       "| 21 | 15 |\n",
       "| 22 | 16 |\n",
       "| 23 | 17 |\n",
       "| 24 | 18 |\n",
       "| 25 | 18 |\n",
       "| 26 | 19 |\n",
       "| 27 | 20 |\n",
       "| 28 | 21 |\n",
       "| 29 | 22 |\n",
       "| 30 | 23 |\n",
       "| ⋮ | ⋮ |\n",
       "| 441 | 441 |\n",
       "| 442 | 442 |\n",
       "| 443 | 443 |\n",
       "| 444 | 444 |\n",
       "| 445 | 445 |\n",
       "| 446 | 446 |\n",
       "| 447 | 447 |\n",
       "| 448 | 448 |\n",
       "| 449 | 449 |\n",
       "| 450 | 450 |\n",
       "| 451 | 451 |\n",
       "| 452 | 452 |\n",
       "| 453 | 453 |\n",
       "| 454 | 454 |\n",
       "| 455 | 455 |\n",
       "| 456 | 456 |\n",
       "| 457 | 457 |\n",
       "| 458 | 458 |\n",
       "| 459 | 459 |\n",
       "| 460 | 460 |\n",
       "| 461 | 461 |\n",
       "| 462 | 462 |\n",
       "| 463 | 463 |\n",
       "| 464 | 464 |\n",
       "| 465 | 465 |\n",
       "| 466 | 466 |\n",
       "| 467 | 467 |\n",
       "| 468 | 468 |\n",
       "| 469 | 469 |\n",
       "| 470 | 470 |\n",
       "\n"
      ],
      "text/plain": [
       "      idxp   idxq  \n",
       " [1,]  1      1    \n",
       " [2,]  2      1    \n",
       " [3,]  3      1    \n",
       " [4,]  4      1    \n",
       " [5,]  5      1    \n",
       " [6,]  6      2    \n",
       " [7,]  7      3    \n",
       " [8,]  8      4    \n",
       " [9,]  9      4    \n",
       "[10,] 10      5    \n",
       "[11,] 11      6    \n",
       "[12,] 12      7    \n",
       "[13,] 13      8    \n",
       "[14,] 14      9    \n",
       "[15,] 15     10    \n",
       "[16,] 16     11    \n",
       "[17,] 17     12    \n",
       "[18,] 18     13    \n",
       "[19,] 19     14    \n",
       "[20,] 20     14    \n",
       "[21,] 21     15    \n",
       "[22,] 22     16    \n",
       "[23,] 23     17    \n",
       "[24,] 24     18    \n",
       "[25,] 25     18    \n",
       "[26,] 26     19    \n",
       "[27,] 27     20    \n",
       "[28,] 28     21    \n",
       "[29,] 29     22    \n",
       "[30,] 30     23    \n",
       "[31,] <U+22EE> <U+22EE>\n",
       "[32,] 441    441   \n",
       "[33,] 442    442   \n",
       "[34,] 443    443   \n",
       "[35,] 444    444   \n",
       "[36,] 445    445   \n",
       "[37,] 446    446   \n",
       "[38,] 447    447   \n",
       "[39,] 448    448   \n",
       "[40,] 449    449   \n",
       "[41,] 450    450   \n",
       "[42,] 451    451   \n",
       "[43,] 452    452   \n",
       "[44,] 453    453   \n",
       "[45,] 454    454   \n",
       "[46,] 455    455   \n",
       "[47,] 456    456   \n",
       "[48,] 457    457   \n",
       "[49,] 458    458   \n",
       "[50,] 459    459   \n",
       "[51,] 460    460   \n",
       "[52,] 461    461   \n",
       "[53,] 462    462   \n",
       "[54,] 463    463   \n",
       "[55,] 464    464   \n",
       "[56,] 465    465   \n",
       "[57,] 466    466   \n",
       "[58,] 467    467   \n",
       "[59,] 468    468   \n",
       "[60,] 469    469   \n",
       "[61,] 470    470   "
      ]
     },
     "metadata": {},
     "output_type": "display_data"
    }
   ],
   "source": [
    "match"
   ]
  }
 ],
 "metadata": {
  "kernelspec": {
   "display_name": "R",
   "language": "R",
   "name": "ir"
  },
  "language_info": {
   "codemirror_mode": "r",
   "file_extension": ".r",
   "mimetype": "text/x-r-source",
   "name": "R",
   "pygments_lexer": "r",
   "version": "4.0.2"
  },
  "orig_nbformat": 4
 },
 "nbformat": 4,
 "nbformat_minor": 2
}
