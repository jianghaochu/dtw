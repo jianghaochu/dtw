{
 "cells": [
  {
   "cell_type": "code",
   "execution_count": 1,
   "id": "5731a6a2-3846-4790-8822-986072fffe33",
   "metadata": {
    "tags": [],
    "vscode": {
     "languageId": "r"
    }
   },
   "outputs": [],
   "source": [
    "# install.packages(\"Rcpp\")"
   ]
  },
  {
   "cell_type": "code",
   "execution_count": 2,
   "id": "43f6e58b-a4e3-427d-aebf-3dd5c466aec4",
   "metadata": {
    "tags": [],
    "vscode": {
     "languageId": "r"
    }
   },
   "outputs": [
    {
     "name": "stderr",
     "output_type": "stream",
     "text": [
      "Warning message:\n",
      "\"package 'Rcpp' was built under R version 3.6.3\""
     ]
    }
   ],
   "source": [
    "library(Rcpp)"
   ]
  },
  {
   "attachments": {},
   "cell_type": "markdown",
   "id": "bc815d25-d7f5-43e7-a1e5-3c58c6c82fea",
   "metadata": {},
   "source": [
    "#### 1. Calculate Squared Distance\n",
    "\n",
    "$D = dist2(X, C)$ takes two matrices of vectors and calculates the squared Euclidean distance between them.  Both matrices must be of the same column dimension.  If $X$ has $M$ rows and $N$ columns, and $C$ has $L$ rows and $N$ columns, then the result has $M$ rows and $L$ columns.  The $i$, $j$th entry is the  squared distance from the $i$th row of $X$ to the $j$th row of $C$."
   ]
  },
  {
   "cell_type": "code",
   "execution_count": 3,
   "id": "1b754be7-41db-411b-ae95-438d28ea71f4",
   "metadata": {
    "tags": [],
    "vscode": {
     "languageId": "r"
    }
   },
   "outputs": [],
   "source": [
    "dist2 <- function(x, c) {\n",
    "    # Get the number of data points and dimensions in x\n",
    "    ndata <- nrow(x)\n",
    "    dimx <- ncol(x)\n",
    "    \n",
    "    # Get the number of centres and dimensions in c\n",
    "    ncentres <- nrow(c)\n",
    "    dimc <- ncol(c)\n",
    "    \n",
    "    # Check that the dimensions of x and c match\n",
    "    if (dimx != dimc) {\n",
    "        stop(\"Data dimension does not match dimension of centres\")\n",
    "    }\n",
    "    \n",
    "    # Calculate the squared Euclidean distance between each data point in x and each centre in c\n",
    "    n2 <- matrix(0, nrow = ndata, ncol = ncentres)\n",
    "    for (i in 1:ncentres) {\n",
    "        n2[, i] <- colSums((t(x) - t(c)[,i])^2)\n",
    "    }\n",
    "    \n",
    "    #n2 <- matrix(rowSums(x^2), ndata, 1) %*% matrix(rep(1, ncentres), ncol = ncentres) + \n",
    "    #      matrix(rep(rowSums(c), ndata), ncol = ncentres, byrow = TRUE) -\n",
    "    #      2 * x %*% t(c)\n",
    "    \n",
    "    # Return the squared Euclidean distance matrix\n",
    "    return(n2)\n",
    "}"
   ]
  },
  {
   "cell_type": "code",
   "execution_count": 4,
   "id": "56d9497d-3865-4434-a3d7-b98449a3f207",
   "metadata": {
    "tags": [],
    "vscode": {
     "languageId": "r"
    }
   },
   "outputs": [],
   "source": [
    "# install.packages('fields')"
   ]
  },
  {
   "cell_type": "code",
   "execution_count": 5,
   "id": "31384dc3-e031-4387-9007-35d8c537f042",
   "metadata": {
    "tags": [],
    "vscode": {
     "languageId": "r"
    }
   },
   "outputs": [
    {
     "name": "stderr",
     "output_type": "stream",
     "text": [
      "Warning message:\n",
      "\"package 'fields' was built under R version 3.6.3\"Loading required package: spam\n",
      "Warning message:\n",
      "\"package 'spam' was built under R version 3.6.3\"Loading required package: dotCall64\n",
      "Warning message:\n",
      "\"package 'dotCall64' was built under R version 3.6.3\"Loading required package: grid\n",
      "Spam version 2.6-0 (2020-12-14) is loaded.\n",
      "Type 'help( Spam)' or 'demo( spam)' for a short introduction \n",
      "and overview of this package.\n",
      "Help for individual functions is also obtained by adding the\n",
      "suffix '.spam' to the function name, e.g. 'help( chol.spam)'.\n",
      "\n",
      "Attaching package: 'spam'\n",
      "\n",
      "The following objects are masked from 'package:base':\n",
      "\n",
      "    backsolve, forwardsolve\n",
      "\n",
      "See https://github.com/NCAR/Fields for\n",
      " an extensive vignette, other supplements and source code \n"
     ]
    },
    {
     "name": "stdout",
     "output_type": "stream",
     "text": [
      "[1] \"Number of different elements from two distance matrices calculated is 0\"\n"
     ]
    }
   ],
   "source": [
    "set.seed(1)\n",
    "x <- matrix(rnorm(2*3, mean=2, sd=2), nrow=2)\n",
    "c <- matrix(runif(5*3), nrow=5)\n",
    "\n",
    "# Use r built-in distance function to check if the above calculation is correct\n",
    "library(fields)\n",
    "print(paste0('Number of different elements from two distance matrices calculated is ', sum((round(dist2(x, c),2) == round(rdist(x,c)^2, 2)) == FALSE)))"
   ]
  },
  {
   "attachments": {},
   "cell_type": "markdown",
   "id": "f52d1c22-8ccf-46b6-bb31-8c7d6b4a4ee4",
   "metadata": {},
   "source": [
    "#### 2. Cost Function"
   ]
  },
  {
   "cell_type": "code",
   "execution_count": 6,
   "id": "476e3c30-7ae7-48b4-8982-a147a7d46985",
   "metadata": {
    "tags": [],
    "vscode": {
     "languageId": "r"
    }
   },
   "outputs": [],
   "source": [
    "hist_cost_2 <- function(BH1, BH2, eps=0.001) {\n",
    "    # same as hist_cost.m but BH1 and BH2 can be of different lengths\n",
    "    nsamp1 <- dim(BH1)[1]\n",
    "    nbins <- dim(BH1)[2]\n",
    "    nsamp2 <- dim(BH2)[1]\n",
    "    \n",
    "    BH1n <- BH1 / matrix(rep(rowSums(BH1)+eps, nbins), nrow=nsamp1, byrow=F)\n",
    "    BH2n <- BH2 / matrix(rep(rowSums(BH2)+eps, nbins), nrow=nsamp2, byrow=F)\n",
    "    \n",
    "    tmp1 <- array(rep(BH1n, each=nsamp2), dim=c(nsamp1, nsamp2, nbins))\n",
    "    tmp2 <- array(rep(t(BH2n), each=nsamp1), dim=c(nsamp1, nsamp2, nbins))\n",
    "    \n",
    "    HC <- 0.5 * apply((tmp1 - tmp2)^2 / (tmp1 + tmp2 + eps), c(1, 2), sum)\n",
    "    return(HC)\n",
    "}"
   ]
  },
  {
   "attachments": {},
   "cell_type": "markdown",
   "id": "9abfcddb-77c0-4fa8-8689-10f23d286a9b",
   "metadata": {},
   "source": [
    "#### 3. Sample Sequence from Designated Points"
   ]
  },
  {
   "cell_type": "code",
   "execution_count": 7,
   "id": "bf93460d-3b72-409d-9824-4a19233f8569",
   "metadata": {
    "tags": [],
    "vscode": {
     "languageId": "r"
    }
   },
   "outputs": [],
   "source": [
    "# Sample sequence from designated points\n",
    "# Given: the sequence of feature points\n",
    "# Return: subsequences\n",
    "samplingSequencesIdx <- function(sensordata, seqlen, idx) {\n",
    "  # Check if the correct number of arguments have been provided\n",
    "  if(missing(idx)) {\n",
    "    stop(\"Insufficient number of arguments\")\n",
    "  }\n",
    "  \n",
    "  # Get the number of timestamps and dimensions\n",
    "  nTimeStamps <- nrow(sensordata)\n",
    "  nDims <- ncol(sensordata)\n",
    "  \n",
    "  # Check if the input matrix is in the correct format\n",
    "  if(nTimeStamps < nDims) {\n",
    "    warning(\"Synchronized signals should be arranged column-wisely\\n\")\n",
    "  }\n",
    "  \n",
    "  # Initialize variables\n",
    "  mask <- 1:seqlen\n",
    "  mask <- mask - ceiling(seqlen/2)\n",
    "  nSeqs <- length(idx)\n",
    "  sequences <- list()\n",
    "  tAnchor <- idx\n",
    "  cnt <- 0\n",
    "  \n",
    "  # Loop through each subsequence\n",
    "  for(i in 1:nSeqs) {\n",
    "    iloc <- idx[i]\n",
    "    imask <- mask + iloc\n",
    "    \n",
    "    # Check if the subsequence is within the bounds of the input matrix\n",
    "    if(imask[1] <= 0 && imask[length(imask)] <= nTimeStamps) {\n",
    "      tmp <- matrix(rep(sensordata[1, ], (1-imask[1])*nDims), ncol=nDims, byrow=TRUE)\n",
    "      isequence <- rbind(tmp, sensordata[1:imask[length(imask)], ])\n",
    "    } \n",
    "    else if(imask[length(imask)] > nTimeStamps && imask[1] >= 1) {\n",
    "      tmp <- matrix(rep(sensordata[nTimeStamps, ], (imask[length(imask)]-nTimeStamps)*nDims), ncol=nDims, byrow=TRUE)\n",
    "      isequence <- rbind(sensordata[imask[1]:nTimeStamps, ], tmp)\n",
    "    } \n",
    "    else if(imask[1] <= 0 && imask[length(imask)] > nTimeStamps) {\n",
    "      tmp1 <- matrix(rep(sensordata[1, ], (1-imask[1])*nDims), ncol=nDims, byrow=TRUE)\n",
    "      tmp2 <- matrix(rep(sensordata[nTimeStamps, ], (imask[length(imask)]-nTimeStamps)*nDims), ncol=nDims, byrow=TRUE)\n",
    "      isequence <- rbind(tmp1, sensordata, tmp2)\n",
    "    } \n",
    "    else {\n",
    "      isequence <- sensordata[imask, ]\n",
    "    }\n",
    "    \n",
    "    cnt <- cnt + 1\n",
    "    tAnchor[cnt] <- iloc\n",
    "    sequences <- rbind(sequences, list(isequence))\n",
    "  }\n",
    "  \n",
    "  tAnchor <- tAnchor[1:cnt]\n",
    "  \n",
    "  return(list(sequences, tAnchor))\n",
    "}"
   ]
  },
  {
   "cell_type": "code",
   "execution_count": 8,
   "id": "88304c77-26b8-478c-bd58-ee8acdb15355",
   "metadata": {
    "tags": [],
    "vscode": {
     "languageId": "r"
    }
   },
   "outputs": [
    {
     "data": {
      "text/html": [
       "<ol>\n",
       "\t<li><table>\n",
       "<tbody>\n",
       "\t<tr><td>0.4248307, 0.6525383, 0.4046725, 1.0870582, 0.4436209, 1.4173710, 2.1728969, 0.5536035, 2.0101909, 0.9472850, 2.6664697, 3.6374980, 0.7235771, 2.2997473, 1.9240844, 3.2957564, 2.2746095, 1.4479759, 1.6287423, 2.1597897, 2.2625860, 0.9763371, 2.0111302, 0.6360933, 1.4994468, 0.1650483, -0.3876330, 1.6232818, -0.1405643, 0.9645078, -0.9588735, -0.9102164, 1.2038459, 0.5473488, 0.2232562, 0.2824344, -0.1481396, 1.1166959, 1.0740507, -0.4249456, 0.8421263, 0.3047345, 0.5617010, 0.8959816, 0.1212787</td></tr>\n",
       "\t<tr><td>0.652538270, 0.404672490, 1.087058200, 0.443620910, 0.209288520, 2.172896900, 0.553603530, 2.010190900, 0.947285030, 1.272233300, 3.637498000, 0.723577080, 2.299747300, 1.924084400, 2.821823100, 2.274609500, 1.447975900, 1.628742300, 2.159789700, 3.589123700, 0.976337080, 2.011130200, 0.636093330, 1.499446800, 2.221711100, -0.387633030, 1.623281800, -0.140564330, 0.964507760, 0.569911390, -0.910216450, 1.203845900, 0.547348750, 0.223256230, -0.937877270, -0.148139590, 1.116695900, 1.074050700, -0.424945600, -0.812020570, 0.304734520, 0.561700960, 0.895981570, 0.121278670, -0.009299545</td></tr>\n",
       "\t<tr><td>0.404672490, 1.087058200, 0.443620910, 0.209288520, 1.084084500, 0.553603530, 2.010190900, 0.947285030, 1.272233300, 1.852098600, 0.723577080, 2.299747300, 1.924084400, 2.821823100, 1.832584200, 1.447975900, 1.628742300, 2.159789700, 3.589123700, 1.548627700, 2.011130200, 0.636093330, 1.499446800, 2.221711100, 1.381758000, 1.623281800, -0.140564330, 0.964507760, 0.569911390, 1.000645300, 1.203845900, 0.547348750, 0.223256230, -0.937877270, 0.254974440, 1.116695900, 1.074050700, -0.424945600, -0.812020570, -0.332783530, 0.561700960, 0.895981570, 0.121278670, -0.009299545, -0.444037440</td></tr>\n",
       "</tbody>\n",
       "</table>\n",
       "</li>\n",
       "\t<li><ol class=list-inline>\n",
       "\t<li>3</li>\n",
       "\t<li>4</li>\n",
       "\t<li>5</li>\n",
       "</ol>\n",
       "</li>\n",
       "</ol>\n"
      ],
      "text/latex": [
       "\\begin{enumerate}\n",
       "\\item \\begin{tabular}{l}\n",
       "\t 0.4248307, 0.6525383, 0.4046725, 1.0870582, 0.4436209, 1.4173710, 2.1728969, 0.5536035, 2.0101909, 0.9472850, 2.6664697, 3.6374980, 0.7235771, 2.2997473, 1.9240844, 3.2957564, 2.2746095, 1.4479759, 1.6287423, 2.1597897, 2.2625860, 0.9763371, 2.0111302, 0.6360933, 1.4994468, 0.1650483, -0.3876330, 1.6232818, -0.1405643, 0.9645078, -0.9588735, -0.9102164, 1.2038459, 0.5473488, 0.2232562, 0.2824344, -0.1481396, 1.1166959, 1.0740507, -0.4249456, 0.8421263, 0.3047345, 0.5617010, 0.8959816, 0.1212787\\\\\n",
       "\t 0.652538270, 0.404672490, 1.087058200, 0.443620910, 0.209288520, 2.172896900, 0.553603530, 2.010190900, 0.947285030, 1.272233300, 3.637498000, 0.723577080, 2.299747300, 1.924084400, 2.821823100, 2.274609500, 1.447975900, 1.628742300, 2.159789700, 3.589123700, 0.976337080, 2.011130200, 0.636093330, 1.499446800, 2.221711100, -0.387633030, 1.623281800, -0.140564330, 0.964507760, 0.569911390, -0.910216450, 1.203845900, 0.547348750, 0.223256230, -0.937877270, -0.148139590, 1.116695900, 1.074050700, -0.424945600, -0.812020570, 0.304734520, 0.561700960, 0.895981570, 0.121278670, -0.009299545\\\\\n",
       "\t 0.404672490, 1.087058200, 0.443620910, 0.209288520, 1.084084500, 0.553603530, 2.010190900, 0.947285030, 1.272233300, 1.852098600, 0.723577080, 2.299747300, 1.924084400, 2.821823100, 1.832584200, 1.447975900, 1.628742300, 2.159789700, 3.589123700, 1.548627700, 2.011130200, 0.636093330, 1.499446800, 2.221711100, 1.381758000, 1.623281800, -0.140564330, 0.964507760, 0.569911390, 1.000645300, 1.203845900, 0.547348750, 0.223256230, -0.937877270, 0.254974440, 1.116695900, 1.074050700, -0.424945600, -0.812020570, -0.332783530, 0.561700960, 0.895981570, 0.121278670, -0.009299545, -0.444037440\\\\\n",
       "\\end{tabular}\n",
       "\n",
       "\\item \\begin{enumerate*}\n",
       "\\item 3\n",
       "\\item 4\n",
       "\\item 5\n",
       "\\end{enumerate*}\n",
       "\n",
       "\\end{enumerate}\n"
      ],
      "text/markdown": [
       "1. \n",
       "| 0.4248307, 0.6525383, 0.4046725, 1.0870582, 0.4436209, 1.4173710, 2.1728969, 0.5536035, 2.0101909, 0.9472850, 2.6664697, 3.6374980, 0.7235771, 2.2997473, 1.9240844, 3.2957564, 2.2746095, 1.4479759, 1.6287423, 2.1597897, 2.2625860, 0.9763371, 2.0111302, 0.6360933, 1.4994468, 0.1650483, -0.3876330, 1.6232818, -0.1405643, 0.9645078, -0.9588735, -0.9102164, 1.2038459, 0.5473488, 0.2232562, 0.2824344, -0.1481396, 1.1166959, 1.0740507, -0.4249456, 0.8421263, 0.3047345, 0.5617010, 0.8959816, 0.1212787 |\n",
       "| 0.652538270, 0.404672490, 1.087058200, 0.443620910, 0.209288520, 2.172896900, 0.553603530, 2.010190900, 0.947285030, 1.272233300, 3.637498000, 0.723577080, 2.299747300, 1.924084400, 2.821823100, 2.274609500, 1.447975900, 1.628742300, 2.159789700, 3.589123700, 0.976337080, 2.011130200, 0.636093330, 1.499446800, 2.221711100, -0.387633030, 1.623281800, -0.140564330, 0.964507760, 0.569911390, -0.910216450, 1.203845900, 0.547348750, 0.223256230, -0.937877270, -0.148139590, 1.116695900, 1.074050700, -0.424945600, -0.812020570, 0.304734520, 0.561700960, 0.895981570, 0.121278670, -0.009299545 |\n",
       "| 0.404672490, 1.087058200, 0.443620910, 0.209288520, 1.084084500, 0.553603530, 2.010190900, 0.947285030, 1.272233300, 1.852098600, 0.723577080, 2.299747300, 1.924084400, 2.821823100, 1.832584200, 1.447975900, 1.628742300, 2.159789700, 3.589123700, 1.548627700, 2.011130200, 0.636093330, 1.499446800, 2.221711100, 1.381758000, 1.623281800, -0.140564330, 0.964507760, 0.569911390, 1.000645300, 1.203845900, 0.547348750, 0.223256230, -0.937877270, 0.254974440, 1.116695900, 1.074050700, -0.424945600, -0.812020570, -0.332783530, 0.561700960, 0.895981570, 0.121278670, -0.009299545, -0.444037440 |\n",
       "\n",
       "\n",
       "2. 1. 3\n",
       "2. 4\n",
       "3. 5\n",
       "\n",
       "\n",
       "\n",
       "\n",
       "\n"
      ],
      "text/plain": [
       "[[1]]\n",
       "     [,1]  \n",
       "[1,] List,9\n",
       "[2,] List,9\n",
       "[3,] List,9\n",
       "\n",
       "[[2]]\n",
       "[1] 3 4 5\n"
      ]
     },
     "metadata": {},
     "output_type": "display_data"
    }
   ],
   "source": [
    "# Read data from file\n",
    "data_urc <- read.table('../../data/dataSet_URC.txt', quote=\"\\\"\", comment.char=\"\")[,2:10]\n",
    "samplingSequencesIdx(data_urc, 5, c(3:5))"
   ]
  },
  {
   "attachments": {},
   "cell_type": "markdown",
   "id": "8aca2d91-c6d8-444d-9b76-fb578c58d485",
   "metadata": {},
   "source": [
    "#### 4. Dynamic Programming"
   ]
  },
  {
   "cell_type": "code",
   "execution_count": 9,
   "id": "020a46e6",
   "metadata": {
    "vscode": {
     "languageId": "r"
    }
   },
   "outputs": [],
   "source": [
    "sourceCpp(\"dpcore.cpp\")"
   ]
  },
  {
   "cell_type": "code",
   "execution_count": 10,
   "id": "de1e112c-522c-45ec-8f92-d3b0fdeff4a2",
   "metadata": {
    "tags": [],
    "vscode": {
     "languageId": "r"
    }
   },
   "outputs": [],
   "source": [
    "# [p,q,D,sc] = dpfast(M,C,T,G)\n",
    "#    Use dynamic programming to find a min-cost path through matrix M.\n",
    "#    Return state sequence in p,q; full min cost matrix as D and \n",
    "#    local costs along best path in sc.\n",
    "#    This version gives the same results as dp.m, but uses dpcore.mex\n",
    "#    to run ~200x faster.\n",
    "#    C is a step matrix, with rows (i step, j step, cost factor)\n",
    "#    Default is [1 1 1.0;0 1 1.0;1 0 1.0];\n",
    "#    Another good one is [1 1 1;1 0 1;0 1 1;1 2 2;2 1 2]\n",
    "#    T selects traceback origin: 0 is to any edge; 1 is top right (default);\n",
    "#    T > 1 finds path to min of anti-diagonal T points away from top-right.\n",
    "#    Optional G defines length of 'gulleys' for T=0 mode; default 0.5\n",
    "#    (i.e. accept path to only 50% of edge nearest top-right)\n",
    "# 2003-04-04,2005-04-04 dpwe@ee.columbia.edu $Header: /Users/dpwe/projects/dtw/RCS/dpfast.m,v 1.6 2008/03/14 14:40:50 dpwe Exp dpwe $\n",
    "  \n",
    "  # Copyright (c) 2003 Dan Ellis <dpwe@ee.columbia.edu>\n",
    "  # released under GPL - see file COPYRIGHT\n",
    "\n",
    "dpfast <- function(M, C=c(1,1,1.0), window_size=1, T=1, G=0.5) {\n",
    "    if (missing(M)) {\n",
    "        stop(\"Error: M is missing\")\n",
    "    }\n",
    "    \n",
    "    # Default step / cost matrix\n",
    "    if (missing(C)) {\n",
    "        C = matrix(c(1, 1, 1.0, 0, 1, 1.0, 1, 0, 1.0), ncol=3, byrow=TRUE)\n",
    "    }\n",
    "    \n",
    "    # Default: path to top-right\n",
    "    if (missing(T)) {\n",
    "        T = 1\n",
    "    }\n",
    "    \n",
    "    # how big are gulleys?\n",
    "    if (missing(G)) {\n",
    "        G = 0.5  # half the extent\n",
    "    }\n",
    "    \n",
    "    if (sum(is.nan(M)) > 0) {\n",
    "        stop(\"Error: Cost matrix includes NaNs\")\n",
    "    }\n",
    "    \n",
    "    if (min(M) < 0) {\n",
    "    warning(\"Warning: cost matrix includes negative values; results may not be what you expect\")\n",
    "    }\n",
    "    \n",
    "    r <- nrow(M)\n",
    "    c <- ncol(M)\n",
    "    \n",
    "    # Core cumulative cost calculation coded as mex\n",
    "    D_phi <- dpcore_window(M, C, window_size)\n",
    "    D <- D_phi$D\n",
    "    phi <- D_phi$phi\n",
    "    \n",
    "    p <- NULL\n",
    "    q <- NULL\n",
    "    \n",
    "    ## Traceback from top left?\n",
    "    i <- r\n",
    "    j <- c\n",
    "#     if (T == 0) {\n",
    "#         # Traceback from lowest cost \"to edge\" (gulleys)\n",
    "#         TE <- D[r,]\n",
    "#         RE <- D[,c]\n",
    "#         # eliminate points not in gulleys\n",
    "#         TE[1:round((1-G)*c)] <- max(D)\n",
    "#         RE[1:round((1-G)*r)] <- max(D)\n",
    "#         if (min(TE) < min(RE)) {\n",
    "#             i <- r\n",
    "#             j <- max(which(TE==min(TE)))\n",
    "#         } else {\n",
    "#             i <- max(which(RE==min(RE)))\n",
    "#             j <- c\n",
    "#         }\n",
    "#     } else {\n",
    "#         if (min(dim(D)) == 1) {\n",
    "#             # degenerate D has only one row or one column - messes up diag\n",
    "#             i <- r\n",
    "#             j <- c\n",
    "#         } else {\n",
    "#             # Traceback from min of antidiagonal\n",
    "#             #stepback = floor(0.1*c)\n",
    "#             stepback <- T\n",
    "#             DD = D[, c:1]\n",
    "#             slice <- DD[row(DD) == col(DD)+(r-stepback)]\n",
    "#             ii <- which.min(slice)\n",
    "#             i <- r - stepback + ii\n",
    "#             j <- c + 1 - ii\n",
    "#         }\n",
    "#     }\n",
    "    \n",
    "    p <- i\n",
    "    q <- j\n",
    "    sc <- c()\n",
    "    \n",
    "    while (i >= 1 && j >= 1) {\n",
    "        if (i == 1 && j == 1) {\n",
    "            break\n",
    "        }\n",
    "        #disp(paste0(\"i=\",i,\" j=\",j))\n",
    "        tb <- phi[i, j]\n",
    "        sc <- c(M[i, j] * C[tb, 3], sc)\n",
    "        i <- i - C[tb, 1]\n",
    "        j <- j - C[tb, 2]\n",
    "        p <- c(i, p)\n",
    "        q <- c(j, q)  \n",
    "    }\n",
    "    sc <- c(M[i, j], sc)\n",
    "    \n",
    "    return(list(p=p, q=q, D=D, sc=sc))\n",
    "}"
   ]
  },
  {
   "cell_type": "code",
   "execution_count": 11,
   "id": "fa3eebdd",
   "metadata": {
    "vscode": {
     "languageId": "r"
    }
   },
   "outputs": [
    {
     "ename": "ERROR",
     "evalue": "Error in dpcore_window(M, C, window_size): 没有\"dpcore_window\"这个函数\n",
     "output_type": "error",
     "traceback": [
      "Error in dpcore_window(M, C, window_size): 没有\"dpcore_window\"这个函数\nTraceback:\n",
      "1. dpfast(M, C, window_size = 4)"
     ]
    }
   ],
   "source": [
    "# Test dpfast and dpcore\n",
    "nrow = 10\n",
    "ncol = 9\n",
    "M = matrix(abs(rnorm(nrow * ncol)), nrow=nrow, ncol=ncol)\n",
    "C = rbind(c(1, 1, 1), c(1, 0, 1), c(0, 1, 1))\n",
    "dpfast(M, C, window_size=4)"
   ]
  },
  {
   "cell_type": "code",
   "execution_count": 12,
   "id": "d13bcfbe",
   "metadata": {
    "vscode": {
     "languageId": "r"
    }
   },
   "outputs": [],
   "source": [
    "sourceCpp(\"dist2.cpp\")"
   ]
  },
  {
   "cell_type": "code",
   "execution_count": 13,
   "id": "46d89cd5",
   "metadata": {
    "vscode": {
     "languageId": "r"
    }
   },
   "outputs": [
    {
     "data": {
      "text/html": [
       "<table>\n",
       "<tbody>\n",
       "\t<tr><td>1</td><td>3</td><td>5</td></tr>\n",
       "\t<tr><td>2</td><td>4</td><td>6</td></tr>\n",
       "</tbody>\n",
       "</table>\n"
      ],
      "text/latex": [
       "\\begin{tabular}{lll}\n",
       "\t 1 & 3 & 5\\\\\n",
       "\t 2 & 4 & 6\\\\\n",
       "\\end{tabular}\n"
      ],
      "text/markdown": [
       "\n",
       "| 1 | 3 | 5 |\n",
       "| 2 | 4 | 6 |\n",
       "\n"
      ],
      "text/plain": [
       "     [,1] [,2] [,3]\n",
       "[1,] 1    3    5   \n",
       "[2,] 2    4    6   "
      ]
     },
     "metadata": {},
     "output_type": "display_data"
    },
    {
     "data": {
      "text/html": [
       "<table>\n",
       "<tbody>\n",
       "\t<tr><td>1</td><td>2</td><td>3</td></tr>\n",
       "</tbody>\n",
       "</table>\n"
      ],
      "text/latex": [
       "\\begin{tabular}{lll}\n",
       "\t 1 & 2 & 3\\\\\n",
       "\\end{tabular}\n"
      ],
      "text/markdown": [
       "\n",
       "| 1 | 2 | 3 |\n",
       "\n"
      ],
      "text/plain": [
       "     [,1] [,2] [,3]\n",
       "[1,] 1    2    3   "
      ]
     },
     "metadata": {},
     "output_type": "display_data"
    }
   ],
   "source": [
    "x = matrix(c(1, 2, 3, 4, 5, 6), ncol = 3)\n",
    "c = matrix(c(1, 2, 3), ncol = 3)\n",
    "x\n",
    "c"
   ]
  },
  {
   "cell_type": "code",
   "execution_count": 14,
   "id": "e9404c6d",
   "metadata": {
    "vscode": {
     "languageId": "r"
    }
   },
   "outputs": [
    {
     "data": {
      "text/html": [
       "<table>\n",
       "<tbody>\n",
       "\t<tr><td> 5</td></tr>\n",
       "\t<tr><td>14</td></tr>\n",
       "</tbody>\n",
       "</table>\n"
      ],
      "text/latex": [
       "\\begin{tabular}{l}\n",
       "\t  5\\\\\n",
       "\t 14\\\\\n",
       "\\end{tabular}\n"
      ],
      "text/markdown": [
       "\n",
       "|  5 |\n",
       "| 14 |\n",
       "\n"
      ],
      "text/plain": [
       "     [,1]\n",
       "[1,]  5  \n",
       "[2,] 14  "
      ]
     },
     "metadata": {},
     "output_type": "display_data"
    }
   ],
   "source": [
    "dist2(x, c)"
   ]
  },
  {
   "cell_type": "code",
   "execution_count": 15,
   "id": "56f578a9",
   "metadata": {
    "vscode": {
     "languageId": "r"
    }
   },
   "outputs": [],
   "source": [
    "sourceCpp(\"dpcore_window.cpp\")"
   ]
  },
  {
   "cell_type": "code",
   "execution_count": 16,
   "id": "ca4ddd6d",
   "metadata": {
    "vscode": {
     "languageId": "r"
    }
   },
   "outputs": [
    {
     "data": {
      "text/html": [
       "<dl>\n",
       "\t<dt>$D</dt>\n",
       "\t\t<dd><table>\n",
       "<tbody>\n",
       "\t<tr><td>0.2992151</td><td>0.3563219</td><td>1.083073 </td><td>2.249643 </td><td>2.304521 </td><td>3.119489 </td><td>0.000000 </td><td>0.000000 </td><td>0.000000 </td></tr>\n",
       "\t<tr><td>0.7107260</td><td>0.8028231</td><td>1.508234 </td><td>2.148663 </td><td>2.398805 </td><td>2.546784 </td><td>3.647753 </td><td>0.000000 </td><td>0.000000 </td></tr>\n",
       "\t<tr><td>0.9629494</td><td>1.7964953</td><td>1.794983 </td><td>3.072016 </td><td>2.766907 </td><td>3.823903 </td><td>2.690556 </td><td>3.687542 </td><td>0.000000 </td></tr>\n",
       "\t<tr><td>1.8548705</td><td>1.6539032</td><td>2.083416 </td><td>2.951520 </td><td>2.939530 </td><td>3.132848 </td><td>2.808309 </td><td>2.966334 </td><td>4.422322 </td></tr>\n",
       "\t<tr><td>2.2905538</td><td>2.9385026</td><td>2.892207 </td><td>2.915463 </td><td>5.139364 </td><td>3.187943 </td><td>3.720378 </td><td>4.064328 </td><td>3.195353 </td></tr>\n",
       "\t<tr><td>3.5280922</td><td>2.3372800</td><td>2.616626 </td><td>2.843955 </td><td>4.107569 </td><td>3.253231 </td><td>4.625529 </td><td>4.367052 </td><td>4.191897 </td></tr>\n",
       "\t<tr><td>0.0000000</td><td>2.5729866</td><td>4.095183 </td><td>2.882764 </td><td>3.202684 </td><td>3.221840 </td><td>4.018930 </td><td>5.318242 </td><td>4.973756 </td></tr>\n",
       "\t<tr><td>0.0000000</td><td>0.0000000</td><td>3.133733 </td><td>3.259466 </td><td>2.893809 </td><td>3.151147 </td><td>4.405231 </td><td>4.892192 </td><td>5.668969 </td></tr>\n",
       "\t<tr><td>0.0000000</td><td>0.0000000</td><td>0.000000 </td><td>5.575097 </td><td>3.834458 </td><td>3.542819 </td><td>3.923290 </td><td>3.931661 </td><td>4.547651 </td></tr>\n",
       "\t<tr><td>0.0000000</td><td>0.0000000</td><td>0.000000 </td><td>0.000000 </td><td>3.950284 </td><td>3.661988 </td><td>3.762335 </td><td>4.643207 </td><td>3.978241 </td></tr>\n",
       "</tbody>\n",
       "</table>\n",
       "</dd>\n",
       "\t<dt>$phi</dt>\n",
       "\t\t<dd><table>\n",
       "<tbody>\n",
       "\t<tr><td>0</td><td>3</td><td>3</td><td>3</td><td>3</td><td>3</td><td>0</td><td>0</td><td>0</td></tr>\n",
       "\t<tr><td>2</td><td>1</td><td>1</td><td>1</td><td>3</td><td>1</td><td>3</td><td>0</td><td>0</td></tr>\n",
       "\t<tr><td>2</td><td>1</td><td>1</td><td>1</td><td>1</td><td>1</td><td>1</td><td>3</td><td>0</td></tr>\n",
       "\t<tr><td>2</td><td>1</td><td>3</td><td>1</td><td>2</td><td>1</td><td>2</td><td>1</td><td>3</td></tr>\n",
       "\t<tr><td>2</td><td>2</td><td>1</td><td>1</td><td>3</td><td>1</td><td>2</td><td>1</td><td>1</td></tr>\n",
       "\t<tr><td>2</td><td>1</td><td>3</td><td>3</td><td>3</td><td>2</td><td>1</td><td>1</td><td>2</td></tr>\n",
       "\t<tr><td>0</td><td>2</td><td>1</td><td>1</td><td>1</td><td>3</td><td>3</td><td>3</td><td>2</td></tr>\n",
       "\t<tr><td>0</td><td>0</td><td>1</td><td>2</td><td>1</td><td>3</td><td>3</td><td>1</td><td>3</td></tr>\n",
       "\t<tr><td>0</td><td>0</td><td>0</td><td>1</td><td>2</td><td>1</td><td>1</td><td>3</td><td>3</td></tr>\n",
       "\t<tr><td>0</td><td>0</td><td>0</td><td>0</td><td>2</td><td>2</td><td>1</td><td>3</td><td>1</td></tr>\n",
       "</tbody>\n",
       "</table>\n",
       "</dd>\n",
       "</dl>\n"
      ],
      "text/latex": [
       "\\begin{description}\n",
       "\\item[\\$D] \\begin{tabular}{lllllllll}\n",
       "\t 0.2992151 & 0.3563219 & 1.083073  & 2.249643  & 2.304521  & 3.119489  & 0.000000  & 0.000000  & 0.000000 \\\\\n",
       "\t 0.7107260 & 0.8028231 & 1.508234  & 2.148663  & 2.398805  & 2.546784  & 3.647753  & 0.000000  & 0.000000 \\\\\n",
       "\t 0.9629494 & 1.7964953 & 1.794983  & 3.072016  & 2.766907  & 3.823903  & 2.690556  & 3.687542  & 0.000000 \\\\\n",
       "\t 1.8548705 & 1.6539032 & 2.083416  & 2.951520  & 2.939530  & 3.132848  & 2.808309  & 2.966334  & 4.422322 \\\\\n",
       "\t 2.2905538 & 2.9385026 & 2.892207  & 2.915463  & 5.139364  & 3.187943  & 3.720378  & 4.064328  & 3.195353 \\\\\n",
       "\t 3.5280922 & 2.3372800 & 2.616626  & 2.843955  & 4.107569  & 3.253231  & 4.625529  & 4.367052  & 4.191897 \\\\\n",
       "\t 0.0000000 & 2.5729866 & 4.095183  & 2.882764  & 3.202684  & 3.221840  & 4.018930  & 5.318242  & 4.973756 \\\\\n",
       "\t 0.0000000 & 0.0000000 & 3.133733  & 3.259466  & 2.893809  & 3.151147  & 4.405231  & 4.892192  & 5.668969 \\\\\n",
       "\t 0.0000000 & 0.0000000 & 0.000000  & 5.575097  & 3.834458  & 3.542819  & 3.923290  & 3.931661  & 4.547651 \\\\\n",
       "\t 0.0000000 & 0.0000000 & 0.000000  & 0.000000  & 3.950284  & 3.661988  & 3.762335  & 4.643207  & 3.978241 \\\\\n",
       "\\end{tabular}\n",
       "\n",
       "\\item[\\$phi] \\begin{tabular}{lllllllll}\n",
       "\t 0 & 3 & 3 & 3 & 3 & 3 & 0 & 0 & 0\\\\\n",
       "\t 2 & 1 & 1 & 1 & 3 & 1 & 3 & 0 & 0\\\\\n",
       "\t 2 & 1 & 1 & 1 & 1 & 1 & 1 & 3 & 0\\\\\n",
       "\t 2 & 1 & 3 & 1 & 2 & 1 & 2 & 1 & 3\\\\\n",
       "\t 2 & 2 & 1 & 1 & 3 & 1 & 2 & 1 & 1\\\\\n",
       "\t 2 & 1 & 3 & 3 & 3 & 2 & 1 & 1 & 2\\\\\n",
       "\t 0 & 2 & 1 & 1 & 1 & 3 & 3 & 3 & 2\\\\\n",
       "\t 0 & 0 & 1 & 2 & 1 & 3 & 3 & 1 & 3\\\\\n",
       "\t 0 & 0 & 0 & 1 & 2 & 1 & 1 & 3 & 3\\\\\n",
       "\t 0 & 0 & 0 & 0 & 2 & 2 & 1 & 3 & 1\\\\\n",
       "\\end{tabular}\n",
       "\n",
       "\\end{description}\n"
      ],
      "text/markdown": [
       "$D\n",
       ":   \n",
       "| 0.2992151 | 0.3563219 | 1.083073  | 2.249643  | 2.304521  | 3.119489  | 0.000000  | 0.000000  | 0.000000  |\n",
       "| 0.7107260 | 0.8028231 | 1.508234  | 2.148663  | 2.398805  | 2.546784  | 3.647753  | 0.000000  | 0.000000  |\n",
       "| 0.9629494 | 1.7964953 | 1.794983  | 3.072016  | 2.766907  | 3.823903  | 2.690556  | 3.687542  | 0.000000  |\n",
       "| 1.8548705 | 1.6539032 | 2.083416  | 2.951520  | 2.939530  | 3.132848  | 2.808309  | 2.966334  | 4.422322  |\n",
       "| 2.2905538 | 2.9385026 | 2.892207  | 2.915463  | 5.139364  | 3.187943  | 3.720378  | 4.064328  | 3.195353  |\n",
       "| 3.5280922 | 2.3372800 | 2.616626  | 2.843955  | 4.107569  | 3.253231  | 4.625529  | 4.367052  | 4.191897  |\n",
       "| 0.0000000 | 2.5729866 | 4.095183  | 2.882764  | 3.202684  | 3.221840  | 4.018930  | 5.318242  | 4.973756  |\n",
       "| 0.0000000 | 0.0000000 | 3.133733  | 3.259466  | 2.893809  | 3.151147  | 4.405231  | 4.892192  | 5.668969  |\n",
       "| 0.0000000 | 0.0000000 | 0.000000  | 5.575097  | 3.834458  | 3.542819  | 3.923290  | 3.931661  | 4.547651  |\n",
       "| 0.0000000 | 0.0000000 | 0.000000  | 0.000000  | 3.950284  | 3.661988  | 3.762335  | 4.643207  | 3.978241  |\n",
       "\n",
       "\n",
       "$phi\n",
       ":   \n",
       "| 0 | 3 | 3 | 3 | 3 | 3 | 0 | 0 | 0 |\n",
       "| 2 | 1 | 1 | 1 | 3 | 1 | 3 | 0 | 0 |\n",
       "| 2 | 1 | 1 | 1 | 1 | 1 | 1 | 3 | 0 |\n",
       "| 2 | 1 | 3 | 1 | 2 | 1 | 2 | 1 | 3 |\n",
       "| 2 | 2 | 1 | 1 | 3 | 1 | 2 | 1 | 1 |\n",
       "| 2 | 1 | 3 | 3 | 3 | 2 | 1 | 1 | 2 |\n",
       "| 0 | 2 | 1 | 1 | 1 | 3 | 3 | 3 | 2 |\n",
       "| 0 | 0 | 1 | 2 | 1 | 3 | 3 | 1 | 3 |\n",
       "| 0 | 0 | 0 | 1 | 2 | 1 | 1 | 3 | 3 |\n",
       "| 0 | 0 | 0 | 0 | 2 | 2 | 1 | 3 | 1 |\n",
       "\n",
       "\n",
       "\n",
       "\n"
      ],
      "text/plain": [
       "$D\n",
       "           [,1]      [,2]     [,3]     [,4]     [,5]     [,6]     [,7]     [,8]\n",
       " [1,] 0.2992151 0.3563219 1.083073 2.249643 2.304521 3.119489 0.000000 0.000000\n",
       " [2,] 0.7107260 0.8028231 1.508234 2.148663 2.398805 2.546784 3.647753 0.000000\n",
       " [3,] 0.9629494 1.7964953 1.794983 3.072016 2.766907 3.823903 2.690556 3.687542\n",
       " [4,] 1.8548705 1.6539032 2.083416 2.951520 2.939530 3.132848 2.808309 2.966334\n",
       " [5,] 2.2905538 2.9385026 2.892207 2.915463 5.139364 3.187943 3.720378 4.064328\n",
       " [6,] 3.5280922 2.3372800 2.616626 2.843955 4.107569 3.253231 4.625529 4.367052\n",
       " [7,] 0.0000000 2.5729866 4.095183 2.882764 3.202684 3.221840 4.018930 5.318242\n",
       " [8,] 0.0000000 0.0000000 3.133733 3.259466 2.893809 3.151147 4.405231 4.892192\n",
       " [9,] 0.0000000 0.0000000 0.000000 5.575097 3.834458 3.542819 3.923290 3.931661\n",
       "[10,] 0.0000000 0.0000000 0.000000 0.000000 3.950284 3.661988 3.762335 4.643207\n",
       "          [,9]\n",
       " [1,] 0.000000\n",
       " [2,] 0.000000\n",
       " [3,] 0.000000\n",
       " [4,] 4.422322\n",
       " [5,] 3.195353\n",
       " [6,] 4.191897\n",
       " [7,] 4.973756\n",
       " [8,] 5.668969\n",
       " [9,] 4.547651\n",
       "[10,] 3.978241\n",
       "\n",
       "$phi\n",
       "      [,1] [,2] [,3] [,4] [,5] [,6] [,7] [,8] [,9]\n",
       " [1,]    0    3    3    3    3    3    0    0    0\n",
       " [2,]    2    1    1    1    3    1    3    0    0\n",
       " [3,]    2    1    1    1    1    1    1    3    0\n",
       " [4,]    2    1    3    1    2    1    2    1    3\n",
       " [5,]    2    2    1    1    3    1    2    1    1\n",
       " [6,]    2    1    3    3    3    2    1    1    2\n",
       " [7,]    0    2    1    1    1    3    3    3    2\n",
       " [8,]    0    0    1    2    1    3    3    1    3\n",
       " [9,]    0    0    0    1    2    1    1    3    3\n",
       "[10,]    0    0    0    0    2    2    1    3    1\n"
      ]
     },
     "metadata": {},
     "output_type": "display_data"
    }
   ],
   "source": [
    "dpcore_window(M, C, 5)"
   ]
  },
  {
   "attachments": {},
   "cell_type": "markdown",
   "id": "492bae53-61a1-4496-a573-766425d09903",
   "metadata": {},
   "source": [
    "#### 5. Shape Descriptors"
   ]
  },
  {
   "cell_type": "code",
   "execution_count": 50,
   "id": "cd5bb1d9-007b-49ec-b4c4-3d2a37191869",
   "metadata": {
    "tags": [],
    "vscode": {
     "languageId": "r"
    }
   },
   "outputs": [],
   "source": [
    "calcDescriptor <- function(subsequence, descriptorName = \"HOG1D\", param = NULL) {\n",
    "  if (ncol(subsequence) != 1) {\n",
    "    stop(\"The input subsequence should be one-dimensional\\n\")\n",
    "  }\n",
    "  \n",
    "  if (missing(param)) {\n",
    "    param <- validateHOG1Dparam()\n",
    "  }\n",
    "  \n",
    "  switch(descriptorName,\n",
    "         \"HOG1D\" = {\n",
    "           val_param <- validateHOG1Dparam(param)\n",
    "           descriptor <- descriptorHOG1D(subsequence, val_param)\n",
    "         },\n",
    "         \"PAA\" = {\n",
    "           val_param <- validatePAAdescriptorparam(param)\n",
    "           descriptor <- descriptorPAA(subsequence, val_param)\n",
    "         },\n",
    "         \"DWT\" = {\n",
    "           val_param <- validateDWTdescriptorparam(param)\n",
    "           descriptor <- descriptorDWT(subsequence, val_param)\n",
    "         },\n",
    "         stop(\"Only support 3 descriptors\\n\")\n",
    "  )\n",
    "  \n",
    "  return(descriptor)\n",
    "}"
   ]
  },
  {
   "attachments": {},
   "cell_type": "markdown",
   "id": "bdb579e6",
   "metadata": {},
   "source": [
    "## Test Descriptors"
   ]
  },
  {
   "cell_type": "code",
   "execution_count": 24,
   "id": "fad38605",
   "metadata": {
    "vscode": {
     "languageId": "r"
    }
   },
   "outputs": [
    {
     "name": "stderr",
     "output_type": "stream",
     "text": [
      "Registered S3 methods overwritten by 'ggplot2':\n",
      "  method         from \n",
      "  [.quosures     rlang\n",
      "  c.quosures     rlang\n",
      "  print.quosures rlang\n"
     ]
    },
    {
     "name": "stdout",
     "output_type": "stream",
     "text": [
      "[1] 312   3\n"
     ]
    },
    {
     "data": {
      "image/png": "[encoded data removed]",
      "text/plain": [
       "plot without title"
      ]
     },
     "metadata": {},
     "output_type": "display_data"
    }
   ],
   "source": [
    "library(data.table)\n",
    "library(ggplot2)\n",
    "dt <- fread('../testdata.csv')\n",
    "dt[, time := as.Date(time)]\n",
    "print(dim(dt))\n",
    "\n",
    "options(repr.plot.width = 16, repr.plot.height = 5)\n",
    "ggplot(data=dt, aes(x=time, y=value, color=label)) + geom_point() + geom_line() + \n",
    "scale_x_date(breaks='1 month') + theme(\n",
    "    axis.text.x=element_text(angle=90, vjust=0.5, hjust=1),\n",
    "    axis.title=element_text(size=22), axis.text=element_text(size=16), \n",
    "    legend.title=element_text(size=22), legend.text=element_text(size=16))"
   ]
  },
  {
   "cell_type": "code",
   "execution_count": 25,
   "id": "020f87a4",
   "metadata": {
    "vscode": {
     "languageId": "r"
    }
   },
   "outputs": [
    {
     "data": {
      "text/html": [
       "<table>\n",
       "<thead><tr><th scope=col>time</th><th scope=col>label</th><th scope=col>value</th></tr></thead>\n",
       "<tbody>\n",
       "\t<tr><td>2021-01-01</td><td>ref       </td><td>10.37722  </td></tr>\n",
       "\t<tr><td>2021-01-08</td><td>ref       </td><td>10.79246  </td></tr>\n",
       "\t<tr><td>2021-01-15</td><td>ref       </td><td>11.50489  </td></tr>\n",
       "\t<tr><td>2021-01-22</td><td>ref       </td><td>13.33110  </td></tr>\n",
       "\t<tr><td>2021-01-29</td><td>ref       </td><td>13.13147  </td></tr>\n",
       "\t<tr><td>2021-02-05</td><td>ref       </td><td>12.24382  </td></tr>\n",
       "</tbody>\n",
       "</table>\n"
      ],
      "text/latex": [
       "\\begin{tabular}{r|lll}\n",
       " time & label & value\\\\\n",
       "\\hline\n",
       "\t 2021-01-01 & ref        & 10.37722  \\\\\n",
       "\t 2021-01-08 & ref        & 10.79246  \\\\\n",
       "\t 2021-01-15 & ref        & 11.50489  \\\\\n",
       "\t 2021-01-22 & ref        & 13.33110  \\\\\n",
       "\t 2021-01-29 & ref        & 13.13147  \\\\\n",
       "\t 2021-02-05 & ref        & 12.24382  \\\\\n",
       "\\end{tabular}\n"
      ],
      "text/markdown": [
       "\n",
       "| time | label | value |\n",
       "|---|---|---|\n",
       "| 2021-01-01 | ref        | 10.37722   |\n",
       "| 2021-01-08 | ref        | 10.79246   |\n",
       "| 2021-01-15 | ref        | 11.50489   |\n",
       "| 2021-01-22 | ref        | 13.33110   |\n",
       "| 2021-01-29 | ref        | 13.13147   |\n",
       "| 2021-02-05 | ref        | 12.24382   |\n",
       "\n"
      ],
      "text/plain": [
       "  time       label value   \n",
       "1 2021-01-01 ref   10.37722\n",
       "2 2021-01-08 ref   10.79246\n",
       "3 2021-01-15 ref   11.50489\n",
       "4 2021-01-22 ref   13.33110\n",
       "5 2021-01-29 ref   13.13147\n",
       "6 2021-02-05 ref   12.24382"
      ]
     },
     "metadata": {},
     "output_type": "display_data"
    }
   ],
   "source": [
    "head(dt)"
   ]
  },
  {
   "cell_type": "code",
   "execution_count": 29,
   "id": "4367de96",
   "metadata": {
    "vscode": {
     "languageId": "r"
    }
   },
   "outputs": [],
   "source": [
    "ref = dt[label == \"ref\"]"
   ]
  },
  {
   "cell_type": "code",
   "execution_count": 78,
   "id": "70ccc341",
   "metadata": {
    "vscode": {
     "languageId": "r"
    }
   },
   "outputs": [],
   "source": [
    "ref_value = dt[label == \"ref\"]$value"
   ]
  },
  {
   "cell_type": "code",
   "execution_count": 79,
   "id": "689ddd99",
   "metadata": {
    "vscode": {
     "languageId": "r"
    }
   },
   "outputs": [
    {
     "data": {
      "text/html": [
       "'double'"
      ],
      "text/latex": [
       "'double'"
      ],
      "text/markdown": [
       "'double'"
      ],
      "text/plain": [
       "[1] \"double\""
      ]
     },
     "metadata": {},
     "output_type": "display_data"
    }
   ],
   "source": [
    "typeof(ref_value)"
   ]
  },
  {
   "cell_type": "code",
   "execution_count": 80,
   "id": "187f30d3",
   "metadata": {
    "vscode": {
     "languageId": "r"
    }
   },
   "outputs": [],
   "source": [
    "ref_value2 = matrix(c(ref_value), ncol=1)"
   ]
  },
  {
   "cell_type": "code",
   "execution_count": 81,
   "id": "f23afc60",
   "metadata": {
    "vscode": {
     "languageId": "r"
    }
   },
   "outputs": [
    {
     "data": {
      "text/html": [
       "<table>\n",
       "<tbody>\n",
       "\t<tr><td>10.377223</td></tr>\n",
       "\t<tr><td>10.792458</td></tr>\n",
       "\t<tr><td>11.504895</td></tr>\n",
       "\t<tr><td>13.331097</td></tr>\n",
       "\t<tr><td>13.131473</td></tr>\n",
       "\t<tr><td>12.243818</td></tr>\n",
       "\t<tr><td>15.484723</td></tr>\n",
       "\t<tr><td>17.388900</td></tr>\n",
       "\t<tr><td>16.352631</td></tr>\n",
       "\t<tr><td>14.032310</td></tr>\n",
       "\t<tr><td>10.293315</td></tr>\n",
       "\t<tr><td> 9.601414</td></tr>\n",
       "\t<tr><td>10.091666</td></tr>\n",
       "\t<tr><td> 8.807839</td></tr>\n",
       "\t<tr><td>10.166210</td></tr>\n",
       "\t<tr><td>10.524303</td></tr>\n",
       "\t<tr><td>13.374186</td></tr>\n",
       "\t<tr><td>14.094969</td></tr>\n",
       "\t<tr><td>11.899838</td></tr>\n",
       "\t<tr><td> 9.704813</td></tr>\n",
       "\t<tr><td>11.464696</td></tr>\n",
       "\t<tr><td>13.017016</td></tr>\n",
       "\t<tr><td>13.341238</td></tr>\n",
       "\t<tr><td>11.088850</td></tr>\n",
       "\t<tr><td> 9.912499</td></tr>\n",
       "\t<tr><td>10.830374</td></tr>\n",
       "\t<tr><td>10.854027</td></tr>\n",
       "\t<tr><td>11.630244</td></tr>\n",
       "\t<tr><td>12.938222</td></tr>\n",
       "\t<tr><td>13.913668</td></tr>\n",
       "\t<tr><td>...</td></tr>\n",
       "\t<tr><td>20.25941</td></tr>\n",
       "\t<tr><td>19.90194</td></tr>\n",
       "\t<tr><td>18.97718</td></tr>\n",
       "\t<tr><td>18.35977</td></tr>\n",
       "\t<tr><td>19.76198</td></tr>\n",
       "\t<tr><td>19.30539</td></tr>\n",
       "\t<tr><td>18.78745</td></tr>\n",
       "\t<tr><td>20.14403</td></tr>\n",
       "\t<tr><td>21.29316</td></tr>\n",
       "\t<tr><td>19.08801</td></tr>\n",
       "\t<tr><td>16.24584</td></tr>\n",
       "\t<tr><td>14.73257</td></tr>\n",
       "\t<tr><td>16.00101</td></tr>\n",
       "\t<tr><td>16.86355</td></tr>\n",
       "\t<tr><td>16.31904</td></tr>\n",
       "\t<tr><td>16.04705</td></tr>\n",
       "\t<tr><td>16.16698</td></tr>\n",
       "\t<tr><td>18.02484</td></tr>\n",
       "\t<tr><td>18.10176</td></tr>\n",
       "\t<tr><td>17.02311</td></tr>\n",
       "\t<tr><td>16.51534</td></tr>\n",
       "\t<tr><td>18.52504</td></tr>\n",
       "\t<tr><td>20.02789</td></tr>\n",
       "\t<tr><td>21.61509</td></tr>\n",
       "\t<tr><td>23.50063</td></tr>\n",
       "\t<tr><td>23.77579</td></tr>\n",
       "\t<tr><td>23.34657</td></tr>\n",
       "\t<tr><td>23.00455</td></tr>\n",
       "\t<tr><td>22.86647</td></tr>\n",
       "\t<tr><td>22.85876</td></tr>\n",
       "</tbody>\n",
       "</table>\n"
      ],
      "text/latex": [
       "\\begin{tabular}{l}\n",
       "\t 10.377223\\\\\n",
       "\t 10.792458\\\\\n",
       "\t 11.504895\\\\\n",
       "\t 13.331097\\\\\n",
       "\t 13.131473\\\\\n",
       "\t 12.243818\\\\\n",
       "\t 15.484723\\\\\n",
       "\t 17.388900\\\\\n",
       "\t 16.352631\\\\\n",
       "\t 14.032310\\\\\n",
       "\t 10.293315\\\\\n",
       "\t  9.601414\\\\\n",
       "\t 10.091666\\\\\n",
       "\t  8.807839\\\\\n",
       "\t 10.166210\\\\\n",
       "\t 10.524303\\\\\n",
       "\t 13.374186\\\\\n",
       "\t 14.094969\\\\\n",
       "\t 11.899838\\\\\n",
       "\t  9.704813\\\\\n",
       "\t 11.464696\\\\\n",
       "\t 13.017016\\\\\n",
       "\t 13.341238\\\\\n",
       "\t 11.088850\\\\\n",
       "\t  9.912499\\\\\n",
       "\t 10.830374\\\\\n",
       "\t 10.854027\\\\\n",
       "\t 11.630244\\\\\n",
       "\t 12.938222\\\\\n",
       "\t 13.913668\\\\\n",
       "\t ...\\\\\n",
       "\t 20.25941\\\\\n",
       "\t 19.90194\\\\\n",
       "\t 18.97718\\\\\n",
       "\t 18.35977\\\\\n",
       "\t 19.76198\\\\\n",
       "\t 19.30539\\\\\n",
       "\t 18.78745\\\\\n",
       "\t 20.14403\\\\\n",
       "\t 21.29316\\\\\n",
       "\t 19.08801\\\\\n",
       "\t 16.24584\\\\\n",
       "\t 14.73257\\\\\n",
       "\t 16.00101\\\\\n",
       "\t 16.86355\\\\\n",
       "\t 16.31904\\\\\n",
       "\t 16.04705\\\\\n",
       "\t 16.16698\\\\\n",
       "\t 18.02484\\\\\n",
       "\t 18.10176\\\\\n",
       "\t 17.02311\\\\\n",
       "\t 16.51534\\\\\n",
       "\t 18.52504\\\\\n",
       "\t 20.02789\\\\\n",
       "\t 21.61509\\\\\n",
       "\t 23.50063\\\\\n",
       "\t 23.77579\\\\\n",
       "\t 23.34657\\\\\n",
       "\t 23.00455\\\\\n",
       "\t 22.86647\\\\\n",
       "\t 22.85876\\\\\n",
       "\\end{tabular}\n"
      ],
      "text/markdown": [
       "\n",
       "| 10.377223 |\n",
       "| 10.792458 |\n",
       "| 11.504895 |\n",
       "| 13.331097 |\n",
       "| 13.131473 |\n",
       "| 12.243818 |\n",
       "| 15.484723 |\n",
       "| 17.388900 |\n",
       "| 16.352631 |\n",
       "| 14.032310 |\n",
       "| 10.293315 |\n",
       "|  9.601414 |\n",
       "| 10.091666 |\n",
       "|  8.807839 |\n",
       "| 10.166210 |\n",
       "| 10.524303 |\n",
       "| 13.374186 |\n",
       "| 14.094969 |\n",
       "| 11.899838 |\n",
       "|  9.704813 |\n",
       "| 11.464696 |\n",
       "| 13.017016 |\n",
       "| 13.341238 |\n",
       "| 11.088850 |\n",
       "|  9.912499 |\n",
       "| 10.830374 |\n",
       "| 10.854027 |\n",
       "| 11.630244 |\n",
       "| 12.938222 |\n",
       "| 13.913668 |\n",
       "| ... |\n",
       "| 20.25941 |\n",
       "| 19.90194 |\n",
       "| 18.97718 |\n",
       "| 18.35977 |\n",
       "| 19.76198 |\n",
       "| 19.30539 |\n",
       "| 18.78745 |\n",
       "| 20.14403 |\n",
       "| 21.29316 |\n",
       "| 19.08801 |\n",
       "| 16.24584 |\n",
       "| 14.73257 |\n",
       "| 16.00101 |\n",
       "| 16.86355 |\n",
       "| 16.31904 |\n",
       "| 16.04705 |\n",
       "| 16.16698 |\n",
       "| 18.02484 |\n",
       "| 18.10176 |\n",
       "| 17.02311 |\n",
       "| 16.51534 |\n",
       "| 18.52504 |\n",
       "| 20.02789 |\n",
       "| 21.61509 |\n",
       "| 23.50063 |\n",
       "| 23.77579 |\n",
       "| 23.34657 |\n",
       "| 23.00455 |\n",
       "| 22.86647 |\n",
       "| 22.85876 |\n",
       "\n"
      ],
      "text/plain": [
       "      [,1]     \n",
       " [1,] 10.377223\n",
       " [2,] 10.792458\n",
       " [3,] 11.504895\n",
       " [4,] 13.331097\n",
       " [5,] 13.131473\n",
       " [6,] 12.243818\n",
       " [7,] 15.484723\n",
       " [8,] 17.388900\n",
       " [9,] 16.352631\n",
       "[10,] 14.032310\n",
       "[11,] 10.293315\n",
       "[12,]  9.601414\n",
       "[13,] 10.091666\n",
       "[14,]  8.807839\n",
       "[15,] 10.166210\n",
       "[16,] 10.524303\n",
       "[17,] 13.374186\n",
       "[18,] 14.094969\n",
       "[19,] 11.899838\n",
       "[20,]  9.704813\n",
       "[21,] 11.464696\n",
       "[22,] 13.017016\n",
       "[23,] 13.341238\n",
       "[24,] 11.088850\n",
       "[25,]  9.912499\n",
       "[26,] 10.830374\n",
       "[27,] 10.854027\n",
       "[28,] 11.630244\n",
       "[29,] 12.938222\n",
       "[30,] 13.913668\n",
       "[31,] ...      \n",
       "[32,] 20.25941 \n",
       "[33,] 19.90194 \n",
       "[34,] 18.97718 \n",
       "[35,] 18.35977 \n",
       "[36,] 19.76198 \n",
       "[37,] 19.30539 \n",
       "[38,] 18.78745 \n",
       "[39,] 20.14403 \n",
       "[40,] 21.29316 \n",
       "[41,] 19.08801 \n",
       "[42,] 16.24584 \n",
       "[43,] 14.73257 \n",
       "[44,] 16.00101 \n",
       "[45,] 16.86355 \n",
       "[46,] 16.31904 \n",
       "[47,] 16.04705 \n",
       "[48,] 16.16698 \n",
       "[49,] 18.02484 \n",
       "[50,] 18.10176 \n",
       "[51,] 17.02311 \n",
       "[52,] 16.51534 \n",
       "[53,] 18.52504 \n",
       "[54,] 20.02789 \n",
       "[55,] 21.61509 \n",
       "[56,] 23.50063 \n",
       "[57,] 23.77579 \n",
       "[58,] 23.34657 \n",
       "[59,] 23.00455 \n",
       "[60,] 22.86647 \n",
       "[61,] 22.85876 "
      ]
     },
     "metadata": {},
     "output_type": "display_data"
    }
   ],
   "source": [
    "ref_value2"
   ]
  },
  {
   "cell_type": "code",
   "execution_count": 82,
   "id": "8d82bfb3",
   "metadata": {
    "vscode": {
     "languageId": "r"
    }
   },
   "outputs": [
    {
     "data": {
      "text/html": [
       "<ol class=list-inline>\n",
       "\t<li>104</li>\n",
       "\t<li>1</li>\n",
       "</ol>\n"
      ],
      "text/latex": [
       "\\begin{enumerate*}\n",
       "\\item 104\n",
       "\\item 1\n",
       "\\end{enumerate*}\n"
      ],
      "text/markdown": [
       "1. 104\n",
       "2. 1\n",
       "\n",
       "\n"
      ],
      "text/plain": [
       "[1] 104   1"
      ]
     },
     "metadata": {},
     "output_type": "display_data"
    }
   ],
   "source": [
    "dim(ref_value2)"
   ]
  },
  {
   "cell_type": "code",
   "execution_count": 55,
   "id": "6ea947eb",
   "metadata": {
    "vscode": {
     "languageId": "r"
    }
   },
   "outputs": [
    {
     "ename": "ERROR",
     "evalue": "Error in descriptorHOG1D(subsequence, val_param): 没有\"descriptorHOG1D\"这个函数\n",
     "output_type": "error",
     "traceback": [
      "Error in descriptorHOG1D(subsequence, val_param): 没有\"descriptorHOG1D\"这个函数\nTraceback:\n",
      "1. calcDescriptor(ref_value, descriptorName = \"HOG1D\", param = NULL)"
     ]
    }
   ],
   "source": [
    "calcDescriptor(ref_value, descriptorName = \"HOG1D\", param = NULL)"
   ]
  },
  {
   "cell_type": "code",
   "execution_count": 56,
   "id": "3ecd98c9",
   "metadata": {
    "vscode": {
     "languageId": "r"
    }
   },
   "outputs": [],
   "source": [
    "source(\"descriptorPAA.R\")"
   ]
  },
  {
   "cell_type": "code",
   "execution_count": 58,
   "id": "8386e65d",
   "metadata": {
    "vscode": {
     "languageId": "r"
    }
   },
   "outputs": [],
   "source": [
    "source(\"validatePAAdescriptorparam.R\")"
   ]
  },
  {
   "cell_type": "code",
   "execution_count": 88,
   "id": "5596a17c",
   "metadata": {
    "vscode": {
     "languageId": "r"
    }
   },
   "outputs": [],
   "source": [
    "source(\"PAA.R\")"
   ]
  },
  {
   "cell_type": "code",
   "execution_count": 89,
   "id": "ad2377aa",
   "metadata": {
    "vscode": {
     "languageId": "r"
    }
   },
   "outputs": [
    {
     "data": {
      "text/html": [
       "<dl>\n",
       "\t<dt>$rep</dt>\n",
       "\t\t<dd><ol class=list-inline>\n",
       "\t<li>13.4639527258526</li>\n",
       "\t<li>10.8558551842167</li>\n",
       "\t<li>11.8990835650667</li>\n",
       "\t<li>15.4375525471613</li>\n",
       "\t<li>16.147408827207</li>\n",
       "\t<li>17.0360854498384</li>\n",
       "\t<li>16.4350277424355</li>\n",
       "\t<li>18.7719165719046</li>\n",
       "\t<li>17.5521707220898</li>\n",
       "\t<li>20.382344819058</li>\n",
       "</ol>\n",
       "</dd>\n",
       "\t<dt>$segLens</dt>\n",
       "\t\t<dd><ol class=list-inline>\n",
       "\t<li>10</li>\n",
       "\t<li>10</li>\n",
       "\t<li>10</li>\n",
       "\t<li>10</li>\n",
       "\t<li>10</li>\n",
       "\t<li>10</li>\n",
       "\t<li>10</li>\n",
       "\t<li>10</li>\n",
       "\t<li>10</li>\n",
       "\t<li>14</li>\n",
       "</ol>\n",
       "</dd>\n",
       "\t<dt>$idx_seg</dt>\n",
       "\t\t<dd><ol class=list-inline>\n",
       "\t<li>0</li>\n",
       "\t<li>10</li>\n",
       "\t<li>20</li>\n",
       "\t<li>30</li>\n",
       "\t<li>40</li>\n",
       "\t<li>50</li>\n",
       "\t<li>60</li>\n",
       "\t<li>70</li>\n",
       "\t<li>80</li>\n",
       "\t<li>90</li>\n",
       "\t<li>104</li>\n",
       "</ol>\n",
       "</dd>\n",
       "\t<dt>$val_params</dt>\n",
       "\t\t<dd><dl>\n",
       "\t<dt>$priority</dt>\n",
       "\t\t<dd>'segNum'</dd>\n",
       "\t<dt>$segNum</dt>\n",
       "\t\t<dd>10</dd>\n",
       "\t<dt>$segLen</dt>\n",
       "\t\t<dd>10</dd>\n",
       "</dl>\n",
       "</dd>\n",
       "</dl>\n"
      ],
      "text/latex": [
       "\\begin{description}\n",
       "\\item[\\$rep] \\begin{enumerate*}\n",
       "\\item 13.4639527258526\n",
       "\\item 10.8558551842167\n",
       "\\item 11.8990835650667\n",
       "\\item 15.4375525471613\n",
       "\\item 16.147408827207\n",
       "\\item 17.0360854498384\n",
       "\\item 16.4350277424355\n",
       "\\item 18.7719165719046\n",
       "\\item 17.5521707220898\n",
       "\\item 20.382344819058\n",
       "\\end{enumerate*}\n",
       "\n",
       "\\item[\\$segLens] \\begin{enumerate*}\n",
       "\\item 10\n",
       "\\item 10\n",
       "\\item 10\n",
       "\\item 10\n",
       "\\item 10\n",
       "\\item 10\n",
       "\\item 10\n",
       "\\item 10\n",
       "\\item 10\n",
       "\\item 14\n",
       "\\end{enumerate*}\n",
       "\n",
       "\\item[\\$idx\\_seg] \\begin{enumerate*}\n",
       "\\item 0\n",
       "\\item 10\n",
       "\\item 20\n",
       "\\item 30\n",
       "\\item 40\n",
       "\\item 50\n",
       "\\item 60\n",
       "\\item 70\n",
       "\\item 80\n",
       "\\item 90\n",
       "\\item 104\n",
       "\\end{enumerate*}\n",
       "\n",
       "\\item[\\$val\\_params] \\begin{description}\n",
       "\\item[\\$priority] 'segNum'\n",
       "\\item[\\$segNum] 10\n",
       "\\item[\\$segLen] 10\n",
       "\\end{description}\n",
       "\n",
       "\\end{description}\n"
      ],
      "text/markdown": [
       "$rep\n",
       ":   1. 13.4639527258526\n",
       "2. 10.8558551842167\n",
       "3. 11.8990835650667\n",
       "4. 15.4375525471613\n",
       "5. 16.147408827207\n",
       "6. 17.0360854498384\n",
       "7. 16.4350277424355\n",
       "8. 18.7719165719046\n",
       "9. 17.5521707220898\n",
       "10. 20.382344819058\n",
       "\n",
       "\n",
       "\n",
       "$segLens\n",
       ":   1. 10\n",
       "2. 10\n",
       "3. 10\n",
       "4. 10\n",
       "5. 10\n",
       "6. 10\n",
       "7. 10\n",
       "8. 10\n",
       "9. 10\n",
       "10. 14\n",
       "\n",
       "\n",
       "\n",
       "$idx_seg\n",
       ":   1. 0\n",
       "2. 10\n",
       "3. 20\n",
       "4. 30\n",
       "5. 40\n",
       "6. 50\n",
       "7. 60\n",
       "8. 70\n",
       "9. 80\n",
       "10. 90\n",
       "11. 104\n",
       "\n",
       "\n",
       "\n",
       "$val_params\n",
       ":   $priority\n",
       ":   'segNum'\n",
       "$segNum\n",
       ":   10\n",
       "$segLen\n",
       ":   10\n",
       "\n",
       "\n",
       "\n",
       "\n",
       "\n"
      ],
      "text/plain": [
       "$rep\n",
       " [1] 13.46395 10.85586 11.89908 15.43755 16.14741 17.03609 16.43503 18.77192\n",
       " [9] 17.55217 20.38234\n",
       "\n",
       "$segLens\n",
       " [1] 10 10 10 10 10 10 10 10 10 14\n",
       "\n",
       "$idx_seg\n",
       " [1]   0  10  20  30  40  50  60  70  80  90 104\n",
       "\n",
       "$val_params\n",
       "$val_params$priority\n",
       "[1] \"segNum\"\n",
       "\n",
       "$val_params$segNum\n",
       "[1] 10\n",
       "\n",
       "$val_params$segLen\n",
       "[1] 10\n",
       "\n"
      ]
     },
     "metadata": {},
     "output_type": "display_data"
    }
   ],
   "source": [
    "calcDescriptor(ref_value2, descriptorName = \"PAA\", param = NULL)"
   ]
  },
  {
   "cell_type": "code",
   "execution_count": 99,
   "id": "5158973b",
   "metadata": {
    "vscode": {
     "languageId": "r"
    }
   },
   "outputs": [],
   "source": [
    "source(\"descriptorHOG1D.R\")\n",
    "source(\"validateHOG1Dparam.R\")"
   ]
  },
  {
   "cell_type": "code",
   "execution_count": 91,
   "id": "e7782191",
   "metadata": {
    "vscode": {
     "languageId": "r"
    }
   },
   "outputs": [
    {
     "data": {
      "text/html": [
       "<table>\n",
       "<thead><tr><th></th><th scope=col>descriptorHOG1D.R</th><th scope=col>validateHOG1Dparam.R</th></tr></thead>\n",
       "<tbody>\n",
       "\t<tr><th scope=row>value</th><td><span style=white-space:pre-wrap>function (sequences, param = NULL) , {,     if (is.null(param)) {,         param &lt;- list(cells = c(1, 25), overlap = 12, gradmethod = \"centered\", ,             nbins = 8, sign = TRUE, xscale = 0.1),     },     if (missing(sequences)) {,         stop(\"Not enough inputs\\n\"),     },     val_param &lt;- validateHOG1Dparam(param),     cells &lt;- val_param$cells,     gradmethod &lt;- val_param$gradmethod,     nbins &lt;- val_param$nbins,     dx_scale &lt;- val_param$xscale,     sequences &lt;- sequences[, 1],     seqlen &lt;- length(sequences),     sCell &lt;- cells[2],     overlap &lt;- val_param$overlap,     if (val_param$sign) {,         angles &lt;- seq(-pi/2, pi/2, length.out = nbins + 1),     },     else {,         angles &lt;- seq(0, pi/2, length.out = nbins + 1),     },     centerAngles &lt;- numeric(nbins),     for (i in 1:nbins) {,         centerAngles[i] &lt;- (angles[i] + angles[i + 1])/2,     },     ref_lens &lt;- numeric(10),     for (i in 1:10) {,         ref_lens[i] &lt;- sCell * i - overlap * (i - 1),     },     idx &lt;- which.min(abs(ref_lens - length(sequences))),     if ((length(sequences) - ref_lens[idx]) &gt; 0 &amp;&amp; (length(sequences) - ,         ref_lens[idx]) &lt; 2) {,         sequences &lt;- c(sequences[1], sequences, sequences[length(sequences)]),     },     else if ((length(sequences) - ref_lens[idx]) &lt;= 0) {,         margin &lt;- ref_lens[idx] - length(sequences) + 2,         leftMargin &lt;- round(margin/2),         rightMargin &lt;- margin - leftMargin,         sequences &lt;- c(rep(sequences[1], leftMargin), sequences, ,             rep(sequences[length(sequences)], rightMargin)),     },     nBlock &lt;- idx,     descriptor &lt;- matrix(0, nBlock, nbins),     idx_start &lt;- 1,     for (i in 1:nBlock) {,         for (j in 1:sCell) {,             idx &lt;- i * sCell - (i - 1) * overlap - sCell + j,             cidx &lt;- idx_start + idx - 1,             switch(gradmethod, uncentered = {,                 sidx &lt;- cidx,                 eidx &lt;- cidx + 1,                 if (sidx &lt; 1 || eidx &gt; seqlen) {,                   next,                 },                 dx &lt;- 1 * dx_scale,                 dy &lt;- sequences[eidx] - sequences[sidx],                 ang &lt;- atan2(dy, dx),                 mag &lt;- dy/dx,             }, centered = {,                 sidx &lt;- cidx - 1,                 eidx &lt;- cidx + 1,                 if (sidx &lt; 1 || eidx &gt; seqlen) {,                   next,                 },                 dx &lt;- 2 * dx_scale,                 dy &lt;- sequences[eidx] - sequences[sidx],                 ang &lt;- atan2(dy, dx),                 mag &lt;- dy/dx,             }),             switch(val_param$sign, false = {,                 stop(\"Now param.sign can only be true\\n\"),             }, true = {,                 n &lt;- whichInterval(angles, ang),                 if (n == 1 &amp;&amp; ang &lt;= centerAngles[1]) {,                   descriptor[i, n] &lt;- descriptor[i, n] + abs(mag),                 } else if (n == nbins &amp;&amp; ang &gt; centerAngles[nbins]) {,                   descriptor[i, n] &lt;- descriptor[i, n] + abs(mag),                 } else {,                   if (abs(angles[n] - ang) &gt; abs(angles[n + 1] - ,                     ang)) {,                     ang1 &lt;- centerAngles[n],                     ang2 &lt;- centerAngles[n + 1],                     descriptor[i, n] &lt;- descriptor[i, n] + abs(mag) * ,                       cos(ang1 - ang),                     descriptor[i, n + 1] &lt;- descriptor[i, n + ,                       1] + abs(mag) * cos(ang2 - ang),                   } else {,                     ang1 &lt;- centerAngles[n - 1],                     ang2 &lt;- centerAngles[n],                     descriptor[i, n - 1] &lt;- descriptor[i, n - ,                       1] + abs(mag) * cos(ang1 - ang),                     descriptor[i, n] &lt;- descriptor[i, n] + abs(mag) * ,                       cos(ang2 - ang),                   },                 },             }),         },     },     subdescriptors &lt;- descriptor,     descriptor &lt;- t(descriptor),     descriptor &lt;- as.vector(descriptor), }</span></td><td><span style=white-space:pre-wrap>function (param = NULL) , {,     param.cells &lt;- c(1, 25),     val_param &lt;- list(cells = param.cells, overlap = 0, gradmethod = \"centered\", ,         nbins = 8, sign = \"true\", xscale = 0.1),     if (is.null(param)) {,         return(val_param),     },     if (!is.list(param)) {,         return(val_param),     },     if (!\"overlap\" %in% names(param)) {,         val_param$overlap &lt;- 12,     },     else {,         val_param$overlap &lt;- param$overlap,     },     if (!\"xscale\" %in% names(param)) {,         val_param$xscale &lt;- 0.1,     },     else {,         val_param$xscale &lt;- param$xscale,     },     if (!\"cells\" %in% names(param)) {,         val_param$cells &lt;- c(1, 25),     },     else {,         val_param$cells &lt;- param$cells,     },     if (!\"gradmethod\" %in% names(param)) {,         val_param$gradmethod &lt;- \"uncentered\",     },     else {,         val_param$gradmethod &lt;- param$gradmethod,     },     if (!\"nbins\" %in% names(param)) {,         val_param$nbins &lt;- 8,     },     else {,         val_param$nbins &lt;- param$nbins,     },     if (!\"sign\" %in% names(param)) {,         val_param$sign &lt;- \"true\",     },     else {,         val_param$sign &lt;- param$sign,     },     return(val_param), }</span>                                                                                                                                                                                                                                                                                                                                                                                                                                                                                                                                                                                                                                                                                                                                                                                                                                                                                                                                                                                                                                                                                                                                                                                                                                                                                                                                                                                                                                                                                                                                                                                                                                                                                                                                                                                                                                                                                                                                                                                                                                                                                                                                                                                                                                                                                                                                                                                                                                                                                                                                                                                                                                                                                                                                                                                                                                                                                                                                                                                                                                                             </td></tr>\n",
       "\t<tr><th scope=row>visible</th><td>FALSE</td><td>FALSE</td></tr>\n",
       "</tbody>\n",
       "</table>\n"
      ],
      "text/latex": [
       "\\begin{tabular}{r|ll}\n",
       "  & descriptorHOG1D.R & validateHOG1Dparam.R\\\\\n",
       "\\hline\n",
       "\tvalue & function (sequences, param = NULL) , \\{,     if (is.null(param)) \\{,         param <- list(cells = c(1, 25), overlap = 12, gradmethod = \"centered\", ,             nbins = 8, sign = TRUE, xscale = 0.1),     \\},     if (missing(sequences)) \\{,         stop(\"Not enough inputs\\textbackslash{}n\"),     \\},     val\\_param <- validateHOG1Dparam(param),     cells <- val\\_param\\$cells,     gradmethod <- val\\_param\\$gradmethod,     nbins <- val\\_param\\$nbins,     dx\\_scale <- val\\_param\\$xscale,     sequences <- sequences{[}, 1{]},     seqlen <- length(sequences),     sCell <- cells{[}2{]},     overlap <- val\\_param\\$overlap,     if (val\\_param\\$sign) \\{,         angles <- seq(-pi/2, pi/2, length.out = nbins + 1),     \\},     else \\{,         angles <- seq(0, pi/2, length.out = nbins + 1),     \\},     centerAngles <- numeric(nbins),     for (i in 1:nbins) \\{,         centerAngles{[}i{]} <- (angles{[}i{]} + angles{[}i + 1{]})/2,     \\},     ref\\_lens <- numeric(10),     for (i in 1:10) \\{,         ref\\_lens{[}i{]} <- sCell * i - overlap * (i - 1),     \\},     idx <- which.min(abs(ref\\_lens - length(sequences))),     if ((length(sequences) - ref\\_lens{[}idx{]}) > 0 \\&\\& (length(sequences) - ,         ref\\_lens{[}idx{]}) < 2) \\{,         sequences <- c(sequences{[}1{]}, sequences, sequences{[}length(sequences){]}),     \\},     else if ((length(sequences) - ref\\_lens{[}idx{]}) <= 0) \\{,         margin <- ref\\_lens{[}idx{]} - length(sequences) + 2,         leftMargin <- round(margin/2),         rightMargin <- margin - leftMargin,         sequences <- c(rep(sequences{[}1{]}, leftMargin), sequences, ,             rep(sequences{[}length(sequences){]}, rightMargin)),     \\},     nBlock <- idx,     descriptor <- matrix(0, nBlock, nbins),     idx\\_start <- 1,     for (i in 1:nBlock) \\{,         for (j in 1:sCell) \\{,             idx <- i * sCell - (i - 1) * overlap - sCell + j,             cidx <- idx\\_start + idx - 1,             switch(gradmethod, uncentered = \\{,                 sidx <- cidx,                 eidx <- cidx + 1,                 if (sidx < 1 \\textbar{}\\textbar{} eidx > seqlen) \\{,                   next,                 \\},                 dx <- 1 * dx\\_scale,                 dy <- sequences{[}eidx{]} - sequences{[}sidx{]},                 ang <- atan2(dy, dx),                 mag <- dy/dx,             \\}, centered = \\{,                 sidx <- cidx - 1,                 eidx <- cidx + 1,                 if (sidx < 1 \\textbar{}\\textbar{} eidx > seqlen) \\{,                   next,                 \\},                 dx <- 2 * dx\\_scale,                 dy <- sequences{[}eidx{]} - sequences{[}sidx{]},                 ang <- atan2(dy, dx),                 mag <- dy/dx,             \\}),             switch(val\\_param\\$sign, false = \\{,                 stop(\"Now param.sign can only be true\\textbackslash{}n\"),             \\}, true = \\{,                 n <- whichInterval(angles, ang),                 if (n == 1 \\&\\& ang <= centerAngles{[}1{]}) \\{,                   descriptor{[}i, n{]} <- descriptor{[}i, n{]} + abs(mag),                 \\} else if (n == nbins \\&\\& ang > centerAngles{[}nbins{]}) \\{,                   descriptor{[}i, n{]} <- descriptor{[}i, n{]} + abs(mag),                 \\} else \\{,                   if (abs(angles{[}n{]} - ang) > abs(angles{[}n + 1{]} - ,                     ang)) \\{,                     ang1 <- centerAngles{[}n{]},                     ang2 <- centerAngles{[}n + 1{]},                     descriptor{[}i, n{]} <- descriptor{[}i, n{]} + abs(mag) * ,                       cos(ang1 - ang),                     descriptor{[}i, n + 1{]} <- descriptor{[}i, n + ,                       1{]} + abs(mag) * cos(ang2 - ang),                   \\} else \\{,                     ang1 <- centerAngles{[}n - 1{]},                     ang2 <- centerAngles{[}n{]},                     descriptor{[}i, n - 1{]} <- descriptor{[}i, n - ,                       1{]} + abs(mag) * cos(ang1 - ang),                     descriptor{[}i, n{]} <- descriptor{[}i, n{]} + abs(mag) * ,                       cos(ang2 - ang),                   \\},                 \\},             \\}),         \\},     \\},     subdescriptors <- descriptor,     descriptor <- t(descriptor),     descriptor <- as.vector(descriptor), \\} & function (param = NULL) , \\{,     param.cells <- c(1, 25),     val\\_param <- list(cells = param.cells, overlap = 0, gradmethod = \"centered\", ,         nbins = 8, sign = \"true\", xscale = 0.1),     if (is.null(param)) \\{,         return(val\\_param),     \\},     if (!is.list(param)) \\{,         return(val\\_param),     \\},     if (!\"overlap\" \\%in\\% names(param)) \\{,         val\\_param\\$overlap <- 12,     \\},     else \\{,         val\\_param\\$overlap <- param\\$overlap,     \\},     if (!\"xscale\" \\%in\\% names(param)) \\{,         val\\_param\\$xscale <- 0.1,     \\},     else \\{,         val\\_param\\$xscale <- param\\$xscale,     \\},     if (!\"cells\" \\%in\\% names(param)) \\{,         val\\_param\\$cells <- c(1, 25),     \\},     else \\{,         val\\_param\\$cells <- param\\$cells,     \\},     if (!\"gradmethod\" \\%in\\% names(param)) \\{,         val\\_param\\$gradmethod <- \"uncentered\",     \\},     else \\{,         val\\_param\\$gradmethod <- param\\$gradmethod,     \\},     if (!\"nbins\" \\%in\\% names(param)) \\{,         val\\_param\\$nbins <- 8,     \\},     else \\{,         val\\_param\\$nbins <- param\\$nbins,     \\},     if (!\"sign\" \\%in\\% names(param)) \\{,         val\\_param\\$sign <- \"true\",     \\},     else \\{,         val\\_param\\$sign <- param\\$sign,     \\},     return(val\\_param), \\}                                                                                                                                                                                                                                                                                                                                                                                                                                                                                                                                                                                                                                                                                                                                                                                                                                                                                                                                                                                                                                                                                                                                                                                                                                                                                                                                                                                                                                                                                                                                                                                                                                                                                                                                                                                                                                                                                                                                                                                                                                                                                                                                                                                                                                                                                                                                                                                                                                                                                                                                                                                                                                                                                                                                                                                                                                                                                                                                                                                                                                                                                                                  \\\\\n",
       "\tvisible & FALSE & FALSE\\\\\n",
       "\\end{tabular}\n"
      ],
      "text/markdown": [
       "\n",
       "| <!--/--> | descriptorHOG1D.R | validateHOG1Dparam.R |\n",
       "|---|---|---|\n",
       "| value | function (sequences, param = NULL) , {,     if (is.null(param)) {,         param <- list(cells = c(1, 25), overlap = 12, gradmethod = \"centered\", ,             nbins = 8, sign = TRUE, xscale = 0.1),     },     if (missing(sequences)) {,         stop(\"Not enough inputs\\n\"),     },     val_param <- validateHOG1Dparam(param),     cells <- val_param$cells,     gradmethod <- val_param$gradmethod,     nbins <- val_param$nbins,     dx_scale <- val_param$xscale,     sequences <- sequences[, 1],     seqlen <- length(sequences),     sCell <- cells[2],     overlap <- val_param$overlap,     if (val_param$sign) {,         angles <- seq(-pi/2, pi/2, length.out = nbins + 1),     },     else {,         angles <- seq(0, pi/2, length.out = nbins + 1),     },     centerAngles <- numeric(nbins),     for (i in 1:nbins) {,         centerAngles[i] <- (angles[i] + angles[i + 1])/2,     },     ref_lens <- numeric(10),     for (i in 1:10) {,         ref_lens[i] <- sCell * i - overlap * (i - 1),     },     idx <- which.min(abs(ref_lens - length(sequences))),     if ((length(sequences) - ref_lens[idx]) > 0 && (length(sequences) - ,         ref_lens[idx]) < 2) {,         sequences <- c(sequences[1], sequences, sequences[length(sequences)]),     },     else if ((length(sequences) - ref_lens[idx]) <= 0) {,         margin <- ref_lens[idx] - length(sequences) + 2,         leftMargin <- round(margin/2),         rightMargin <- margin - leftMargin,         sequences <- c(rep(sequences[1], leftMargin), sequences, ,             rep(sequences[length(sequences)], rightMargin)),     },     nBlock <- idx,     descriptor <- matrix(0, nBlock, nbins),     idx_start <- 1,     for (i in 1:nBlock) {,         for (j in 1:sCell) {,             idx <- i * sCell - (i - 1) * overlap - sCell + j,             cidx <- idx_start + idx - 1,             switch(gradmethod, uncentered = {,                 sidx <- cidx,                 eidx <- cidx + 1,                 if (sidx < 1 || eidx > seqlen) {,                   next,                 },                 dx <- 1 * dx_scale,                 dy <- sequences[eidx] - sequences[sidx],                 ang <- atan2(dy, dx),                 mag <- dy/dx,             }, centered = {,                 sidx <- cidx - 1,                 eidx <- cidx + 1,                 if (sidx < 1 || eidx > seqlen) {,                   next,                 },                 dx <- 2 * dx_scale,                 dy <- sequences[eidx] - sequences[sidx],                 ang <- atan2(dy, dx),                 mag <- dy/dx,             }),             switch(val_param$sign, false = {,                 stop(\"Now param.sign can only be true\\n\"),             }, true = {,                 n <- whichInterval(angles, ang),                 if (n == 1 && ang <= centerAngles[1]) {,                   descriptor[i, n] <- descriptor[i, n] + abs(mag),                 } else if (n == nbins && ang > centerAngles[nbins]) {,                   descriptor[i, n] <- descriptor[i, n] + abs(mag),                 } else {,                   if (abs(angles[n] - ang) > abs(angles[n + 1] - ,                     ang)) {,                     ang1 <- centerAngles[n],                     ang2 <- centerAngles[n + 1],                     descriptor[i, n] <- descriptor[i, n] + abs(mag) * ,                       cos(ang1 - ang),                     descriptor[i, n + 1] <- descriptor[i, n + ,                       1] + abs(mag) * cos(ang2 - ang),                   } else {,                     ang1 <- centerAngles[n - 1],                     ang2 <- centerAngles[n],                     descriptor[i, n - 1] <- descriptor[i, n - ,                       1] + abs(mag) * cos(ang1 - ang),                     descriptor[i, n] <- descriptor[i, n] + abs(mag) * ,                       cos(ang2 - ang),                   },                 },             }),         },     },     subdescriptors <- descriptor,     descriptor <- t(descriptor),     descriptor <- as.vector(descriptor), } | function (param = NULL) , {,     param.cells <- c(1, 25),     val_param <- list(cells = param.cells, overlap = 0, gradmethod = \"centered\", ,         nbins = 8, sign = \"true\", xscale = 0.1),     if (is.null(param)) {,         return(val_param),     },     if (!is.list(param)) {,         return(val_param),     },     if (!\"overlap\" %in% names(param)) {,         val_param$overlap <- 12,     },     else {,         val_param$overlap <- param$overlap,     },     if (!\"xscale\" %in% names(param)) {,         val_param$xscale <- 0.1,     },     else {,         val_param$xscale <- param$xscale,     },     if (!\"cells\" %in% names(param)) {,         val_param$cells <- c(1, 25),     },     else {,         val_param$cells <- param$cells,     },     if (!\"gradmethod\" %in% names(param)) {,         val_param$gradmethod <- \"uncentered\",     },     else {,         val_param$gradmethod <- param$gradmethod,     },     if (!\"nbins\" %in% names(param)) {,         val_param$nbins <- 8,     },     else {,         val_param$nbins <- param$nbins,     },     if (!\"sign\" %in% names(param)) {,         val_param$sign <- \"true\",     },     else {,         val_param$sign <- param$sign,     },     return(val_param), }                                                                                                                                                                                                                                                                                                                                                                                                                                                                                                                                                                                                                                                                                                                                                                                                                                                                                                                                                                                                                                                                                                                                                                                                                                                                                                                                                                                                                                                                                                                                                                                                                                                                                                                                                                                                                                                                                                                                                                                                                                                                                                                                                                                                                                                                                                                                                                                                                                                                                                                                                                                                                                                                                                                                                                                                                                                                                   |\n",
       "| visible | FALSE | FALSE |\n",
       "\n"
      ],
      "text/plain": [
       "        descriptorHOG1D.R                                                                                                                                                                                                                                                                                                                                                                                                                                                                                                                                                                                                                                                                                                                                                                                                                                                                                                                                                                                                                                                                                                                                                                                                                                                                                                                                                                                                                                                                                                                                                                                                                                                                                                                                                                                                                                                                                                                                                                                                                                                                                                                                                                                                                                                                                                                                                                                                                                                                                                                                                                                                                                                                                                                                                                                                                                                                                                                                                                                                                                                                                                                                                                                                                                                                                                                                                                                                                                                                                                                                                                                                                                                                                                                                                                                                                                                                                                                                                                                                                                                                                                                  \n",
       "value   function (sequences, param = NULL) , {,     if (is.null(param)) {,         param <- list(cells = c(1, 25), overlap = 12, gradmethod = \"centered\", ,             nbins = 8, sign = TRUE, xscale = 0.1),     },     if (missing(sequences)) {,         stop(\"Not enough inputs\\\\n\"),     },     val_param <- validateHOG1Dparam(param),     cells <- val_param$cells,     gradmethod <- val_param$gradmethod,     nbins <- val_param$nbins,     dx_scale <- val_param$xscale,     sequences <- sequences[, 1],     seqlen <- length(sequences),     sCell <- cells[2],     overlap <- val_param$overlap,     if (val_param$sign) {,         angles <- seq(-pi/2, pi/2, length.out = nbins + 1),     },     else {,         angles <- seq(0, pi/2, length.out = nbins + 1),     },     centerAngles <- numeric(nbins),     for (i in 1:nbins) {,         centerAngles[i] <- (angles[i] + angles[i + 1])/2,     },     ref_lens <- numeric(10),     for (i in 1:10) {,         ref_lens[i] <- sCell * i - overlap * (i - 1),     },     idx <- which.min(abs(ref_lens - length(sequences))),     if ((length(sequences) - ref_lens[idx]) > 0 && (length(sequences) - ,         ref_lens[idx]) < 2) {,         sequences <- c(sequences[1], sequences, sequences[length(sequences)]),     },     else if ((length(sequences) - ref_lens[idx]) <= 0) {,         margin <- ref_lens[idx] - length(sequences) + 2,         leftMargin <- round(margin/2),         rightMargin <- margin - leftMargin,         sequences <- c(rep(sequences[1], leftMargin), sequences, ,             rep(sequences[length(sequences)], rightMargin)),     },     nBlock <- idx,     descriptor <- matrix(0, nBlock, nbins),     idx_start <- 1,     for (i in 1:nBlock) {,         for (j in 1:sCell) {,             idx <- i * sCell - (i - 1) * overlap - sCell + j,             cidx <- idx_start + idx - 1,             switch(gradmethod, uncentered = {,                 sidx <- cidx,                 eidx <- cidx + 1,                 if (sidx < 1 || eidx > seqlen) {,                   next,                 },                 dx <- 1 * dx_scale,                 dy <- sequences[eidx] - sequences[sidx],                 ang <- atan2(dy, dx),                 mag <- dy/dx,             }, centered = {,                 sidx <- cidx - 1,                 eidx <- cidx + 1,                 if (sidx < 1 || eidx > seqlen) {,                   next,                 },                 dx <- 2 * dx_scale,                 dy <- sequences[eidx] - sequences[sidx],                 ang <- atan2(dy, dx),                 mag <- dy/dx,             }),             switch(val_param$sign, false = {,                 stop(\"Now param.sign can only be true\\\\n\"),             }, true = {,                 n <- whichInterval(angles, ang),                 if (n == 1 && ang <= centerAngles[1]) {,                   descriptor[i, n] <- descriptor[i, n] + abs(mag),                 } else if (n == nbins && ang > centerAngles[nbins]) {,                   descriptor[i, n] <- descriptor[i, n] + abs(mag),                 } else {,                   if (abs(angles[n] - ang) > abs(angles[n + 1] - ,                     ang)) {,                     ang1 <- centerAngles[n],                     ang2 <- centerAngles[n + 1],                     descriptor[i, n] <- descriptor[i, n] + abs(mag) * ,                       cos(ang1 - ang),                     descriptor[i, n + 1] <- descriptor[i, n + ,                       1] + abs(mag) * cos(ang2 - ang),                   } else {,                     ang1 <- centerAngles[n - 1],                     ang2 <- centerAngles[n],                     descriptor[i, n - 1] <- descriptor[i, n - ,                       1] + abs(mag) * cos(ang1 - ang),                     descriptor[i, n] <- descriptor[i, n] + abs(mag) * ,                       cos(ang2 - ang),                   },                 },             }),         },     },     subdescriptors <- descriptor,     descriptor <- t(descriptor),     descriptor <- as.vector(descriptor), }\n",
       "visible FALSE                                                                                                                                                                                                                                                                                                                                                                                                                                                                                                                                                                                                                                                                                                                                                                                                                                                                                                                                                                                                                                                                                                                                                                                                                                                                                                                                                                                                                                                                                                                                                                                                                                                                                                                                                                                                                                                                                                                                                                                                                                                                                                                                                                                                                                                                                                                                                                                                                                                                                                                                                                                                                                                                                                                                                                                                                                                                                                                                                                                                                                                                                                                                                                                                                                                                                                                                                                                                                                                                                                                                                                                                                                                                                                                                                                                                                                                                                                                                                                                                                                                                                                                              \n",
       "        validateHOG1Dparam.R                                                                                                                                                                                                                                                                                                                                                                                                                                                                                                                                                                                                                                                                                                                                                                                                                                                                                                                                                                                                                                                                                                                                                                                                                             \n",
       "value   function (param = NULL) , {,     param.cells <- c(1, 25),     val_param <- list(cells = param.cells, overlap = 0, gradmethod = \"centered\", ,         nbins = 8, sign = \"true\", xscale = 0.1),     if (is.null(param)) {,         return(val_param),     },     if (!is.list(param)) {,         return(val_param),     },     if (!\"overlap\" %in% names(param)) {,         val_param$overlap <- 12,     },     else {,         val_param$overlap <- param$overlap,     },     if (!\"xscale\" %in% names(param)) {,         val_param$xscale <- 0.1,     },     else {,         val_param$xscale <- param$xscale,     },     if (!\"cells\" %in% names(param)) {,         val_param$cells <- c(1, 25),     },     else {,         val_param$cells <- param$cells,     },     if (!\"gradmethod\" %in% names(param)) {,         val_param$gradmethod <- \"uncentered\",     },     else {,         val_param$gradmethod <- param$gradmethod,     },     if (!\"nbins\" %in% names(param)) {,         val_param$nbins <- 8,     },     else {,         val_param$nbins <- param$nbins,     },     if (!\"sign\" %in% names(param)) {,         val_param$sign <- \"true\",     },     else {,         val_param$sign <- param$sign,     },     return(val_param), }\n",
       "visible FALSE                                                                                                                                                                                                                                                                                                                                                                                                                                                                                                                                                                                                                                                                                                                                                                                                                                                                                                                                                                                                                                                                                                                                                                                                                                            "
      ]
     },
     "metadata": {},
     "output_type": "display_data"
    }
   ],
   "source": [
    "utility_fcn_list <- c(\"descriptorHOG1D.R\", \"validateHOG1Dparam.R\")\n",
    "sapply(utility_fcn_list, source)"
   ]
  },
  {
   "cell_type": "code",
   "execution_count": 96,
   "id": "8b18bc92",
   "metadata": {
    "vscode": {
     "languageId": "r"
    }
   },
   "outputs": [
    {
     "name": "stderr",
     "output_type": "stream",
     "text": [
      "also installing the dependency 'intervals'\n",
      "\n"
     ]
    },
    {
     "name": "stdout",
     "output_type": "stream",
     "text": [
      "\n",
      "  There are binary versions available but the source versions are later:\n",
      "          binary source needs_compilation\n",
      "intervals 0.15.2 0.15.3              TRUE\n",
      "eyelinker  0.2.0  0.2.1             FALSE\n",
      "\n"
     ]
    },
    {
     "name": "stderr",
     "output_type": "stream",
     "text": [
      "installing the source packages 'intervals', 'eyelinker'\n",
      "\n"
     ]
    }
   ],
   "source": [
    "install.packages(\"eyelinker\")"
   ]
  },
  {
   "cell_type": "code",
   "execution_count": 97,
   "id": "bb8e948d",
   "metadata": {
    "vscode": {
     "languageId": "r"
    }
   },
   "outputs": [],
   "source": [
    "library(\"eyelinker\")"
   ]
  },
  {
   "cell_type": "code",
   "execution_count": 106,
   "id": "e9c9d2cb",
   "metadata": {
    "vscode": {
     "languageId": "r"
    }
   },
   "outputs": [],
   "source": [
    "source(\"whichInterval.R\")"
   ]
  },
  {
   "cell_type": "code",
   "execution_count": 141,
   "id": "6d97e0a6",
   "metadata": {
    "vscode": {
     "languageId": "r"
    }
   },
   "outputs": [],
   "source": [
    "# path_est <- \"W:/UMN/Dissertation/LocalMarket/Estimation/\"\n",
    "# fcn_list <- list.files(path = file.path(path_est, \"mlogit_lib\"), pattern = \"[[:alpha:]]*.R\")\n",
    "lib <- sapply(c(\"descriptorHOG1D.R\", \"validateHOG1Dparam.R\"), function(x) source(x, echo = FALSE))"
   ]
  },
  {
   "cell_type": "code",
   "execution_count": 142,
   "id": "f4bc62c9",
   "metadata": {
    "scrolled": false,
    "vscode": {
     "languageId": "r"
    }
   },
   "outputs": [],
   "source": [
    "result = calcDescriptor(ref_value2, descriptorName = \"HOG1D\", param = NULL)"
   ]
  },
  {
   "cell_type": "code",
   "execution_count": 143,
   "id": "a44c8af9",
   "metadata": {
    "vscode": {
     "languageId": "r"
    }
   },
   "outputs": [
    {
     "data": {
      "text/html": [
       "<dl>\n",
       "\t<dt>$subdescriptors</dt>\n",
       "\t\t<dd><table>\n",
       "<tbody>\n",
       "\t<tr><td>136.85644</td><td> 8.165328</td><td>2.213521 </td><td>0.0000000</td><td>0.3679358</td><td>0.3627121</td><td> 4.057432</td><td>136.7129 </td></tr>\n",
       "\t<tr><td> 41.29576</td><td>21.080556</td><td>1.664706 </td><td>0.3026081</td><td>0.0000000</td><td>0.7234468</td><td>16.985650</td><td>109.9195 </td></tr>\n",
       "\t<tr><td> 93.65943</td><td> 8.290118</td><td>2.052598 </td><td>0.0000000</td><td>0.2561575</td><td>0.2420337</td><td> 2.431893</td><td>125.4165 </td></tr>\n",
       "\t<tr><td> 88.30776</td><td>15.645562</td><td>2.698023 </td><td>0.0000000</td><td>0.0000000</td><td>0.0000000</td><td>13.611139</td><td>125.7579 </td></tr>\n",
       "</tbody>\n",
       "</table>\n",
       "</dd>\n",
       "\t<dt>$descriptor</dt>\n",
       "\t\t<dd><table>\n",
       "<tbody>\n",
       "\t<tr><td>136.8564 </td><td>8.165328 </td><td>2.213521 </td><td>0        </td><td>0.3679358</td><td>0.3627121</td><td>4.057432 </td><td>136.7129 </td><td>41.29576 </td><td>21.08056 </td><td>...      </td><td>2.431893 </td><td>125.4165 </td><td>88.30776 </td><td>15.64556 </td><td>2.698023 </td><td>0        </td><td>0        </td><td>0        </td><td>13.61114 </td><td>125.7579 </td></tr>\n",
       "</tbody>\n",
       "</table>\n",
       "</dd>\n",
       "</dl>\n"
      ],
      "text/latex": [
       "\\begin{description}\n",
       "\\item[\\$subdescriptors] \\begin{tabular}{llllllll}\n",
       "\t 136.85644 &  8.165328 & 2.213521  & 0.0000000 & 0.3679358 & 0.3627121 &  4.057432 & 136.7129 \\\\\n",
       "\t  41.29576 & 21.080556 & 1.664706  & 0.3026081 & 0.0000000 & 0.7234468 & 16.985650 & 109.9195 \\\\\n",
       "\t  93.65943 &  8.290118 & 2.052598  & 0.0000000 & 0.2561575 & 0.2420337 &  2.431893 & 125.4165 \\\\\n",
       "\t  88.30776 & 15.645562 & 2.698023  & 0.0000000 & 0.0000000 & 0.0000000 & 13.611139 & 125.7579 \\\\\n",
       "\\end{tabular}\n",
       "\n",
       "\\item[\\$descriptor] \\begin{tabular}{llllllllllllllllllllllllllllllll}\n",
       "\t 136.8564  & 8.165328  & 2.213521  & 0         & 0.3679358 & 0.3627121 & 4.057432  & 136.7129  & 41.29576  & 21.08056  & ...       & 2.431893  & 125.4165  & 88.30776  & 15.64556  & 2.698023  & 0         & 0         & 0         & 13.61114  & 125.7579 \\\\\n",
       "\\end{tabular}\n",
       "\n",
       "\\end{description}\n"
      ],
      "text/markdown": [
       "$subdescriptors\n",
       ":   \n",
       "| 136.85644 |  8.165328 | 2.213521  | 0.0000000 | 0.3679358 | 0.3627121 |  4.057432 | 136.7129  |\n",
       "|  41.29576 | 21.080556 | 1.664706  | 0.3026081 | 0.0000000 | 0.7234468 | 16.985650 | 109.9195  |\n",
       "|  93.65943 |  8.290118 | 2.052598  | 0.0000000 | 0.2561575 | 0.2420337 |  2.431893 | 125.4165  |\n",
       "|  88.30776 | 15.645562 | 2.698023  | 0.0000000 | 0.0000000 | 0.0000000 | 13.611139 | 125.7579  |\n",
       "\n",
       "\n",
       "$descriptor\n",
       ":   \n",
       "| 136.8564  | 8.165328  | 2.213521  | 0         | 0.3679358 | 0.3627121 | 4.057432  | 136.7129  | 41.29576  | 21.08056  | ...       | 2.431893  | 125.4165  | 88.30776  | 15.64556  | 2.698023  | 0         | 0         | 0         | 13.61114  | 125.7579  |\n",
       "\n",
       "\n",
       "\n",
       "\n"
      ],
      "text/plain": [
       "$subdescriptors\n",
       "          [,1]      [,2]     [,3]      [,4]      [,5]      [,6]      [,7]\n",
       "[1,] 136.85644  8.165328 2.213521 0.0000000 0.3679358 0.3627121  4.057432\n",
       "[2,]  41.29576 21.080556 1.664706 0.3026081 0.0000000 0.7234468 16.985650\n",
       "[3,]  93.65943  8.290118 2.052598 0.0000000 0.2561575 0.2420337  2.431893\n",
       "[4,]  88.30776 15.645562 2.698023 0.0000000 0.0000000 0.0000000 13.611139\n",
       "         [,8]\n",
       "[1,] 136.7129\n",
       "[2,] 109.9195\n",
       "[3,] 125.4165\n",
       "[4,] 125.7579\n",
       "\n",
       "$descriptor\n",
       "         [,1]     [,2]     [,3] [,4]      [,5]      [,6]     [,7]     [,8]\n",
       "[1,] 136.8564 8.165328 2.213521    0 0.3679358 0.3627121 4.057432 136.7129\n",
       "         [,9]    [,10]    [,11]     [,12] [,13]     [,14]    [,15]    [,16]\n",
       "[1,] 41.29576 21.08056 1.664706 0.3026081     0 0.7234468 16.98565 109.9195\n",
       "        [,17]    [,18]    [,19] [,20]     [,21]     [,22]    [,23]    [,24]\n",
       "[1,] 93.65943 8.290118 2.052598     0 0.2561575 0.2420337 2.431893 125.4165\n",
       "        [,25]    [,26]    [,27] [,28] [,29] [,30]    [,31]    [,32]\n",
       "[1,] 88.30776 15.64556 2.698023     0     0     0 13.61114 125.7579\n"
      ]
     },
     "metadata": {},
     "output_type": "display_data"
    }
   ],
   "source": [
    "result"
   ]
  },
  {
   "cell_type": "code",
   "execution_count": 139,
   "id": "20a2fd49",
   "metadata": {
    "vscode": {
     "languageId": "r"
    }
   },
   "outputs": [
    {
     "data": {
      "text/html": [
       "<table>\n",
       "<tbody>\n",
       "\t<tr><td>136.8564 </td><td>8.165328 </td><td>2.213521 </td><td>0        </td><td>0.3679358</td><td>0.3627121</td><td>4.057432 </td><td>136.7129 </td><td>41.29576 </td><td>21.08056 </td><td>...      </td><td>2.431893 </td><td>125.4165 </td><td>88.30776 </td><td>15.64556 </td><td>2.698023 </td><td>0        </td><td>0        </td><td>0        </td><td>13.61114 </td><td>125.7579 </td></tr>\n",
       "</tbody>\n",
       "</table>\n"
      ],
      "text/latex": [
       "\\begin{tabular}{llllllllllllllllllllllllllllllll}\n",
       "\t 136.8564  & 8.165328  & 2.213521  & 0         & 0.3679358 & 0.3627121 & 4.057432  & 136.7129  & 41.29576  & 21.08056  & ...       & 2.431893  & 125.4165  & 88.30776  & 15.64556  & 2.698023  & 0         & 0         & 0         & 13.61114  & 125.7579 \\\\\n",
       "\\end{tabular}\n"
      ],
      "text/markdown": [
       "\n",
       "| 136.8564  | 8.165328  | 2.213521  | 0         | 0.3679358 | 0.3627121 | 4.057432  | 136.7129  | 41.29576  | 21.08056  | ...       | 2.431893  | 125.4165  | 88.30776  | 15.64556  | 2.698023  | 0         | 0         | 0         | 13.61114  | 125.7579  |\n",
       "\n"
      ],
      "text/plain": [
       "     [,1]     [,2]     [,3]     [,4] [,5]      [,6]      [,7]     [,8]    \n",
       "[1,] 136.8564 8.165328 2.213521 0    0.3679358 0.3627121 4.057432 136.7129\n",
       "     [,9]     [,10]    [,11] [,12]    [,13]    [,14]    [,15]    [,16]    [,17]\n",
       "[1,] 41.29576 21.08056 ...   2.431893 125.4165 88.30776 15.64556 2.698023 0    \n",
       "     [,18] [,19] [,20]    [,21]   \n",
       "[1,] 0     0     13.61114 125.7579"
      ]
     },
     "metadata": {},
     "output_type": "display_data"
    }
   ],
   "source": [
    "result[[2]]"
   ]
  },
  {
   "cell_type": "code",
   "execution_count": 86,
   "id": "7a966fba",
   "metadata": {
    "vscode": {
     "languageId": "r"
    }
   },
   "outputs": [
    {
     "data": {
      "text/html": [
       "1"
      ],
      "text/latex": [
       "1"
      ],
      "text/markdown": [
       "1"
      ],
      "text/plain": [
       "[1] 1"
      ]
     },
     "metadata": {},
     "output_type": "display_data"
    }
   ],
   "source": [
    "ncol(ref_value2)"
   ]
  },
  {
   "cell_type": "code",
   "execution_count": 83,
   "id": "161a2f69",
   "metadata": {
    "vscode": {
     "languageId": "r"
    }
   },
   "outputs": [
    {
     "data": {
      "text/html": [
       "104"
      ],
      "text/latex": [
       "104"
      ],
      "text/markdown": [
       "104"
      ],
      "text/plain": [
       "[1] 104"
      ]
     },
     "metadata": {},
     "output_type": "display_data"
    }
   ],
   "source": [
    "length(ref_value)"
   ]
  },
  {
   "cell_type": "code",
   "execution_count": 120,
   "id": "fd529830",
   "metadata": {
    "vscode": {
     "languageId": "r"
    }
   },
   "outputs": [],
   "source": [
    "aaa  <- function() {\n",
    "    a  <- 1 + 1\n",
    "    b <- 1 + 2\n",
    "    a\n",
    "}"
   ]
  },
  {
   "cell_type": "code",
   "execution_count": 122,
   "id": "64e8e3d2",
   "metadata": {
    "vscode": {
     "languageId": "r"
    }
   },
   "outputs": [],
   "source": [
    "c = aaa()"
   ]
  },
  {
   "cell_type": "code",
   "execution_count": 123,
   "id": "39d53007",
   "metadata": {
    "vscode": {
     "languageId": "r"
    }
   },
   "outputs": [
    {
     "data": {
      "text/html": [
       "2"
      ],
      "text/latex": [
       "2"
      ],
      "text/markdown": [
       "2"
      ],
      "text/plain": [
       "[1] 2"
      ]
     },
     "metadata": {},
     "output_type": "display_data"
    }
   ],
   "source": [
    "c"
   ]
  },
  {
   "attachments": {},
   "cell_type": "markdown",
   "id": "b12e93c8-ab94-4bcf-970c-34cfa7f7e795",
   "metadata": {},
   "source": [
    "#### 6. Validate Descriptor"
   ]
  },
  {
   "cell_type": "code",
   "execution_count": 18,
   "id": "8965d540-9e65-4c77-acff-56ee8b7ff2f5",
   "metadata": {
    "tags": [],
    "vscode": {
     "languageId": "r"
    }
   },
   "outputs": [],
   "source": [
    "validateDWTdescriptorparam <- function(param) {\n",
    "    if (missing(param) || !is.list(param)) {\n",
    "        val_param <- list(numLevels = 2, selection = 'Haar', n = 2)\n",
    "        return(val_param)\n",
    "    }\n",
    "    \n",
    "    val_param <- param\n",
    "    if (!'numLevels' %in% names(param)) {\n",
    "        val_param$numLevels <- 2\n",
    "    }\n",
    "    if (!'selection' %in% names(param)) {\n",
    "        val_param$selection <- 'Haar'\n",
    "    }\n",
    "    \n",
    "    if (!'n' %in% names(param)) {\n",
    "        val_param$n <- 2\n",
    "    }\n",
    "    return(val_param)\n",
    "}"
   ]
  },
  {
   "cell_type": "code",
   "execution_count": 19,
   "id": "b4f5725d-61be-41f2-b420-10b76e365c6a",
   "metadata": {
    "tags": [],
    "vscode": {
     "languageId": "r"
    }
   },
   "outputs": [],
   "source": [
    "validateHOG1Dparam <- function(param = NULL) {\n",
    "  # a typical valid setting\n",
    "  # {\n",
    "  #   param.blocks    = [1 2];  # unit: cell\n",
    "  #   param.cells     = [1 25]; # unit: t\n",
    "  #   param.gradmethod = 'centered'; # 'centered'\n",
    "  #   param.nbins = 8;\n",
    "  #   param.sign = 'true';\n",
    "  # }\n",
    "  if (is.null(param) || !is.list(param)) {\n",
    "    val_param <- list(\n",
    "      # blocks = c(1, 2),\n",
    "      cells = c(1, 25),\n",
    "      overlap = 0,\n",
    "      gradmethod = \"centered\",\n",
    "      nbins = 8,\n",
    "      sign = \"true\",\n",
    "      xscale = 0.1\n",
    "      # cutoff = c(2, 51)\n",
    "    )\n",
    "    return(val_param)\n",
    "  }\n",
    "  \n",
    "  val_param <- param\n",
    "  \n",
    "  if (!(\"overlap\" %in% names(val_param))) {\n",
    "    val_param$overlap <- 12\n",
    "  }\n",
    "  \n",
    "  if (!(\"xscale\" %in% names(val_param))) {\n",
    "    val_param$xscale <- 0.1\n",
    "  }\n",
    "  \n",
    "  if (!(\"cells\" %in% names(val_param))) {\n",
    "    val_param$cells <- c(1, 25)\n",
    "  }\n",
    "  \n",
    "  if (!(\"gradmethod\" %in% names(val_param))) {\n",
    "    val_param$gradmethod <- \"uncentered\"\n",
    "  }\n",
    "  \n",
    "  if (!(\"nbins\" %in% names(val_param))) {\n",
    "    val_param$nbins <- 8\n",
    "  }\n",
    "  \n",
    "  if (!(\"sign\" %in% names(val_param))) {\n",
    "    val_param$sign <- \"true\"\n",
    "  }\n",
    "  \n",
    "  return(val_param)\n",
    "}"
   ]
  },
  {
   "cell_type": "code",
   "execution_count": 20,
   "id": "d4e38bc5-f573-409f-9432-0f5a60318129",
   "metadata": {
    "tags": [],
    "vscode": {
     "languageId": "r"
    }
   },
   "outputs": [],
   "source": [
    "# validate parameters of piecewise aggregate approximation\n",
    "validatePAAparam <- function(param) {\n",
    "  \n",
    "  if (missing(param) || !is.list(param)) {\n",
    "    val_param <- list(segNum = 10, segLen = NULL, priority = \"segNum\")\n",
    "    return(val_param)\n",
    "  }\n",
    "  \n",
    "  val_param <- list()\n",
    "  \n",
    "  if (!is.null(param$segNum)) {\n",
    "    if (param$segNum > 0) {\n",
    "      val_param$segNum <- param$segNum\n",
    "    } else {\n",
    "      val_param$segNum <- 10\n",
    "    }\n",
    "  } else {\n",
    "    val_param$segNum <- 10\n",
    "  }\n",
    "  \n",
    "  if (!is.null(param$segLen)) {\n",
    "    if (param$segLen > 0) {\n",
    "      val_param$segLen <- param$segLen\n",
    "    } else {\n",
    "      val_param$segLen <- 5\n",
    "    }\n",
    "  } else {\n",
    "    val_param$segLen <- 5\n",
    "  }\n",
    "  \n",
    "  if (!is.null(param$priority)) {\n",
    "    val_param$priority <- param$priority\n",
    "  } else {\n",
    "    val_param$priority <- \"segNum\"\n",
    "  }\n",
    "  \n",
    "  switch(val_param$priority,\n",
    "         segNum = {\n",
    "           if (is.null(val_param$segNum) || val_param$segNum <= 0) {\n",
    "             val_param$segNum <- 10\n",
    "           }\n",
    "         },\n",
    "         segLen = {\n",
    "           if (is.null(val_param$segLen) || val_param$segLen <= 0) {\n",
    "             val_param$segLen <- 5\n",
    "           }\n",
    "         },\n",
    "         {\n",
    "           val_param$priority <- \"segNum\"\n",
    "           if (is.null(val_param$segNum) || val_param$segNum <= 0) {\n",
    "             val_param$segNum <- 10\n",
    "           }\n",
    "         }\n",
    "  )\n",
    "  \n",
    "  return(val_param)\n",
    "}\n",
    "\n",
    "validatePAAdescriptorparam <- function(param = NULL) {\n",
    "  \n",
    "  if (is.null(param) || !is.list(param)) {\n",
    "    val_param <- list(segNum = 10, segLen = NULL, priority = \"segNum\")\n",
    "    return(val_param)\n",
    "  }\n",
    "  \n",
    "  val_param <- validatePAAparam(param)\n",
    "  return(val_param)\n",
    "  \n",
    "}"
   ]
  },
  {
   "attachments": {},
   "cell_type": "markdown",
   "id": "d9584f80-6e8c-4854-abcd-59384b737d48",
   "metadata": {},
   "source": [
    "#### 7. ShapeDTW"
   ]
  },
  {
   "cell_type": "code",
   "execution_count": 21,
   "id": "edf766ae-82e1-4ac2-8c78-176df4ee746b",
   "metadata": {
    "tags": [],
    "vscode": {
     "languageId": "r"
    }
   },
   "outputs": [],
   "source": [
    "shapeDTW <- function(p, q, seqlen, descriptorSetting = NULL, metric = \"Euclidean\") {\n",
    "  if (!is.vector(p) || !is.vector(q)) {\n",
    "    stop(\"Only support univariate time series\\n\")\n",
    "  }\n",
    "  \n",
    "  if (is.null(metric)) {\n",
    "    metric <- \"Euclidean\"\n",
    "  }\n",
    "  \n",
    "  p <- p %>% t() %>% as.data.frame()\n",
    "  q <- q %>% t() %>% as.data.frame()\n",
    "  \n",
    "  lenp <- length(p)\n",
    "  lenq <- length(q)\n",
    "  \n",
    "  if (is.null(descriptorSetting)) {\n",
    "    hog <- validateHOG1Dparam()\n",
    "    hog$cells <- c(1, round(seqlen/2)-1)\n",
    "    hog$overlap <- 0\n",
    "    hog$xscale <- 0.1\n",
    "    \n",
    "    paa <- validatePAAdescriptorparam()\n",
    "    paa$priority <- \"segNum\"\n",
    "    segNum <- ceiling(seqlen/5)\n",
    "    paa$segNum <- segNum\n",
    "    \n",
    "    numLevels <- 3\n",
    "    dwt <- validateDWTdescriptorparam()\n",
    "    dwt$numLevels <- numLevels\n",
    "    \n",
    "    self <- NULL\n",
    "    \n",
    "    descriptorSetting <- list(method = \"HOG1D\", param = hog)\n",
    "  }\n",
    "  \n",
    "  # First compute descriptor at each point, and transform the univariate time series to multivariate one\n",
    "  p_subsequences <- samplingSequencesIdx(p, seqlen, 1:lenp)\n",
    "  q_subsequences <- samplingSequencesIdx(q, seqlen, 1:lenq)\n",
    "  \n",
    "  # Descriptor\n",
    "  descriptorName <- descriptorSetting$method\n",
    "  descriptorParam <- descriptorSetting$param\n",
    "  \n",
    "  p_nsubsequences <- length(p_subsequences)\n",
    "  p_descriptors <- vector(\"list\", p_nsubsequences)\n",
    "  for (j in 1:p_nsubsequences) {\n",
    "    seq <- p_subsequences[[j]]\n",
    "    p_descriptors[[j]] <- calcDescriptor(seq, descriptorName, descriptorParam)\n",
    "  }\n",
    "  p_descriptors <- do.call(rbind, p_descriptors)\n",
    "  \n",
    "  q_nsubsequences <- length(q_subsequences)\n",
    "  q_descriptors <- vector(\"list\", q_nsubsequences)\n",
    "  for (j in 1:q_nsubsequences) {\n",
    "    seq <- q_subsequences[[j]]\n",
    "    q_descriptors[[j]] <- calcDescriptor(seq, descriptorName, descriptorParam)\n",
    "  }\n",
    "  q_descriptors <- do.call(rbind, q_descriptors)\n",
    "  \n",
    "  # Match multivariate time series 'p_descriptors' & 'q_descriptors'\n",
    "  # Run DTW\n",
    "  switch(metric,\n",
    "         \"Euclidean\" = {\n",
    "           d <- dist2(p_descriptors, q_descriptors)\n",
    "           d <- sqrt(d)\n",
    "         },\n",
    "         \"chi-square\" = {\n",
    "           d <- hist_cost_2(p_descriptors, q_descriptors)\n",
    "         },\n",
    "         stop(\"Only support two distance metrics\\n\")\n",
    "  )\n",
    "  \n",
    "  dtw_res <- dpfast(d)\n",
    "  \n",
    "  idxp <- dtw_res[[1]]\n",
    "  idxq <- dtw_res[[2]]\n",
    "  cD <- dtw_res[[3]]\n",
    "  pc <- dtw_res[[4]]\n",
    "  \n",
    "  match <- cbind(idxp, idxq)\n",
    "  lPath <- length(idxp)\n",
    "  distDescriptor <- sum(pc)\n",
    "  \n",
    "  # Compute distance using raw signals, instead of descriptor distances\n",
    "  wp <- wpath2mat(idxp) %*% p\n",
    "  wq <- wpath2mat(idxq) %*% q\n",
    "  \n",
    "  distRaw <- sum(sqrt((wp-wq)^2))\n",
    "  \n",
    "  return(list(distRaw = distRaw, distDescriptor = distDescriptor))\n",
    "}"
   ]
  },
  {
   "cell_type": "code",
   "execution_count": null,
   "id": "d492c04e",
   "metadata": {
    "vscode": {
     "languageId": "r"
    }
   },
   "outputs": [],
   "source": []
  }
 ],
 "metadata": {
  "kernelspec": {
   "display_name": "R",
   "language": "R",
   "name": "ir"
  },
  "language_info": {
   "codemirror_mode": "r",
   "file_extension": ".r",
   "mimetype": "text/x-r-source",
   "name": "R",
   "pygments_lexer": "r",
   "version": "3.6.1"
  }
 },
 "nbformat": 4,
 "nbformat_minor": 5
}
